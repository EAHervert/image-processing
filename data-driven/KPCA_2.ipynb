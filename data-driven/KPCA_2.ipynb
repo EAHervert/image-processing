{
 "cells": [
  {
   "cell_type": "code",
   "execution_count": null,
   "id": "a446b691-a3b0-4d55-8e5e-4d6b0e964128",
   "metadata": {},
   "outputs": [],
   "source": [
    "import numpy as np\n",
    "import matplotlib.pyplot as plt\n",
    "from sklearn.decomposition import KernelPCA\n",
    "from sklearn.datasets import fetch_olivetti_faces\n"
   ]
  },
  {
   "cell_type": "code",
   "execution_count": null,
   "id": "c5086cbb-174c-4ebe-820d-a9a15733f44e",
   "metadata": {},
   "outputs": [],
   "source": [
    "# Load the Olivetti faces dataset\n",
    "faces = fetch_olivetti_faces(shuffle=True)\n",
    "X = faces.data\n",
    "\n",
    "# Add noise to the images\n",
    "np.random.seed(0)\n",
    "noise = np.random.normal(0, 0.1, X.shape)\n",
    "X_noisy = X + noise\n"
   ]
  },
  {
   "cell_type": "code",
   "execution_count": null,
   "id": "870706e3-c196-4bab-b1a7-f62caa754012",
   "metadata": {},
   "outputs": [],
   "source": [
    "# Plot the results\n",
    "fig, axes = plt.subplots(nrows=2, ncols=5, figsize=(10, 6))\n",
    "\n",
    "for i in range(5):\n",
    "    axes[0, i].imshow(X[i].reshape(64, 64), cmap=\"gray\")\n",
    "    axes[0, i].set_title(\"Original\")\n",
    "    axes[1, i].imshow(X_noisy[i].reshape(64, 64), cmap=\"gray\")\n",
    "    axes[1, i].set_title(\"Noisy\")\n",
    "\n",
    "plt.tight_layout()\n",
    "plt.show()"
   ]
  },
  {
   "cell_type": "code",
   "execution_count": null,
   "id": "ec700606-fbad-4196-9917-b1c765afcbf9",
   "metadata": {},
   "outputs": [],
   "source": [
    "# Apply Kernel PCA for denoising\n",
    "kpca = KernelPCA(n_components=100, kernel=\"rbf\", gamma=0.001, alpha=1e-3, fit_inverse_transform=True)\n",
    "X_kpca = kpca.fit_transform(X_noisy)\n",
    "X_denoised = kpca.inverse_transform(X_kpca)\n"
   ]
  },
  {
   "cell_type": "code",
   "execution_count": null,
   "id": "f541a514-3f3e-4c90-ad32-2beab95ff29f",
   "metadata": {},
   "outputs": [],
   "source": [
    "# Plot the results\n",
    "fig, axes = plt.subplots(nrows=3, ncols=5, figsize=(10, 6))\n",
    "\n",
    "for i in range(5):\n",
    "    axes[0, i].imshow(X[i].reshape(64, 64), cmap=\"gray\")\n",
    "    axes[0, i].set_title(\"Original\")\n",
    "    axes[1, i].imshow(X_noisy[i].reshape(64, 64), cmap=\"gray\")\n",
    "    axes[1, i].set_title(\"Noisy\")\n",
    "    axes[2, i].imshow(X_denoised[i].reshape(64, 64), cmap=\"gray\")\n",
    "    axes[2, i].set_title(\"Denoised\")\n",
    "\n",
    "plt.tight_layout()\n",
    "plt.show()"
   ]
  }
 ],
 "metadata": {
  "kernelspec": {
   "display_name": "Python 3 (ipykernel)",
   "language": "python",
   "name": "python3"
  },
  "language_info": {
   "codemirror_mode": {
    "name": "ipython",
    "version": 3
   },
   "file_extension": ".py",
   "mimetype": "text/x-python",
   "name": "python",
   "nbconvert_exporter": "python",
   "pygments_lexer": "ipython3",
   "version": "3.8.18"
  }
 },
 "nbformat": 4,
 "nbformat_minor": 5
}
