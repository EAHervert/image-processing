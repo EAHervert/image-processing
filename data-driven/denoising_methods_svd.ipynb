{
 "cells": [
  {
   "cell_type": "markdown",
   "id": "da6cc13a-7bfc-49cd-9185-16c8f4a4d938",
   "metadata": {},
   "source": [
    "# Denoising Methods - SVD"
   ]
  },
  {
   "cell_type": "code",
   "execution_count": null,
   "id": "cb829773-168a-4cf5-be9b-dcb9baf0e12c",
   "metadata": {},
   "outputs": [],
   "source": [
    "import plotly.express as px\n",
    "import plotly.graph_objects as go\n",
    "from plotly.subplots import make_subplots\n",
    "import pywt\n",
    "import cv2\n",
    "import numpy as np\n",
    "from skimage.metrics import structural_similarity as ssim\n",
    "from skimage.metrics import peak_signal_noise_ratio as psnr\n",
    "import plotly.graph_objects as go"
   ]
  },
  {
   "cell_type": "code",
   "execution_count": null,
   "id": "e8fcb258-eafc-45ab-8187-14fad43716b3",
   "metadata": {},
   "outputs": [],
   "source": [
    "# Noisy\n",
    "# Example images\n",
    "img1_file = 'data/sidd/samples/sample_sidd_validation_NOISY__1.png'\n",
    "img2_file = 'data/sidd/samples/sample_sidd_validation_NOISY__2.png'\n",
    "img3_file = 'data/sidd/samples/sample_sidd_validation_NOISY__3.png'\n",
    "img4_file = 'data/sidd/samples/sample_sidd_validation_NOISY__4.png'\n",
    "\n",
    "# Load image using cv2\n",
    "img1 = cv2.imread(img1_file)\n",
    "img2 = cv2.imread(img2_file)\n",
    "img3 = cv2.imread(img3_file)\n",
    "img4 = cv2.imread(img4_file)\n",
    "\n",
    "# Convert BGR image to RGB\n",
    "img1_rgb = cv2.cvtColor(img1, cv2.COLOR_BGR2RGB)\n",
    "img2_rgb = cv2.cvtColor(img2, cv2.COLOR_BGR2RGB)\n",
    "img3_rgb = cv2.cvtColor(img3, cv2.COLOR_BGR2RGB)\n",
    "img4_rgb = cv2.cvtColor(img4, cv2.COLOR_BGR2RGB)\n",
    "\n",
    "# GT\n",
    "# Example images\n",
    "img1_file_gt = 'data/sidd/samples/sample_sidd_validation_GT__1.png'\n",
    "img2_file_gt = 'data/sidd/samples/sample_sidd_validation_GT__2.png'\n",
    "img3_file_gt = 'data/sidd/samples/sample_sidd_validation_GT__3.png'\n",
    "img4_file_gt = 'data/sidd/samples/sample_sidd_validation_GT__4.png'\n",
    "\n",
    "# Load image using cv2\n",
    "img1_gt = cv2.imread(img1_file_gt)\n",
    "img2_gt = cv2.imread(img2_file_gt)\n",
    "img3_gt = cv2.imread(img3_file_gt)\n",
    "img4_gt = cv2.imread(img4_file_gt)\n",
    "\n",
    "# Convert BGR image to RGB\n",
    "img1_rgb_gt = cv2.cvtColor(img1_gt, cv2.COLOR_BGR2RGB)\n",
    "img2_rgb_gt = cv2.cvtColor(img2_gt, cv2.COLOR_BGR2RGB)\n",
    "img3_rgb_gt = cv2.cvtColor(img3_gt, cv2.COLOR_BGR2RGB)\n",
    "img4_rgb_gt = cv2.cvtColor(img4_gt, cv2.COLOR_BGR2RGB)"
   ]
  },
  {
   "cell_type": "code",
   "execution_count": null,
   "id": "74a3ca4d-6a0e-4f23-b6e1-2c1a7bd19dc0",
   "metadata": {},
   "outputs": [],
   "source": [
    "# Create subplots\n",
    "fig = make_subplots(rows=1, cols=3, subplot_titles=(\"Red Channel\", \"Green Channel\", \"Blue Channel\"))\n",
    "|\n",
    "fig.add_trace(go.Heatmap(z=img1_rgb_gt[:, :, 0], colorscale='greys_r'), row=1, col=1)  # Red Channel\n",
    "fig.add_trace(go.Heatmap(z=img1_rgb_gt[:, :, 1], colorscale='greys_r'), row=1, col=2)  # Green Channel\n",
    "fig.add_trace(go.Heatmap(z=img1_rgb_gt[:, :, 2], colorscale='greys_r'), row=1, col=3)  # Blue Channel\n",
    "\n",
    "# Update layout\n",
    "fig.update_layout(height=400, width=900, title_text=\"Color Channels of the Image\")\n",
    "\n",
    "# Show the plot\n",
    "fig.show()"
   ]
  },
  {
   "cell_type": "markdown",
   "id": "d9705308-dd47-441c-b41e-4b453111a060",
   "metadata": {},
   "source": [
    "## Initial Image SVD"
   ]
  },
  {
   "cell_type": "code",
   "execution_count": null,
   "id": "db0a9e3c-ddc9-4050-91ef-7a6fc1eea29a",
   "metadata": {},
   "outputs": [],
   "source": [
    "U_1, s_1, Vt_1 = np.linalg.svd(img1_rgb_gt[:, :, 0] / 255, full_matrices=False)\n",
    "U_2, s_2, Vt_2 = np.linalg.svd(img1_rgb_gt[:, :, 1] / 255, full_matrices=False)\n",
    "U_3, s_3, Vt_3 = np.linalg.svd(img1_rgb_gt[:, :, 2] / 255, full_matrices=False)"
   ]
  },
  {
   "cell_type": "code",
   "execution_count": null,
   "id": "9712d6f8-fe27-49da-9fb7-cb6885498761",
   "metadata": {},
   "outputs": [],
   "source": [
    "fig = px.scatter(y=s_1, title='Singular Values')\n",
    "fig.add_trace(go.Scatter(y=s_2, mode='markers'))\n",
    "fig.add_trace(go.Scatter(y=s_3, mode='markers'))\n",
    "\n",
    "fig.update_layout(showlegend=False)\n",
    "\n",
    "# Show the plot\n",
    "fig.show()"
   ]
  },
  {
   "cell_type": "code",
   "execution_count": null,
   "id": "a408b3b2-b6f8-4016-9888-21050a394dc9",
   "metadata": {},
   "outputs": [],
   "source": [
    "rank = 10\n",
    "\n",
    "c1 = np.dot(U_1[:, :rank], np.dot(np.diag(s_1[:rank]), Vt_1[:rank, :]))\n",
    "c2 = np.dot(U_2[:, :rank], np.dot(np.diag(s_2[:rank]), Vt_2[:rank, :]))\n",
    "c3 = np.dot(U_3[:, :rank], np.dot(np.diag(s_3[:rank]), Vt_3[:rank, :]))\n",
    "\n",
    "c1 = np.clip(c1 * 255, 0, 255).astype(np.uint8)\n",
    "c2 = np.clip(c2 * 255, 0, 255).astype(np.uint8)\n",
    "c3 = np.clip(c3 * 255, 0, 255).astype(np.uint8)\n"
   ]
  },
  {
   "cell_type": "code",
   "execution_count": null,
   "id": "5a6bf205-1568-4bf4-aa5f-88163465cb3e",
   "metadata": {},
   "outputs": [],
   "source": [
    "# Create subplots\n",
    "fig = make_subplots(rows=1, cols=3, subplot_titles=(\"Red Channel\", \"Green Channel\", \"Blue Channel\"))\n",
    "\n",
    "fig.add_trace(go.Heatmap(z=c1, colorscale='greys_r'), row=1, col=1)  # Red Channel\n",
    "fig.add_trace(go.Heatmap(z=c2, colorscale='greys_r'), row=1, col=2)  # Green Channel\n",
    "fig.add_trace(go.Heatmap(z=c3, colorscale='greys_r'), row=1, col=3)  # Blue Channel\n",
    "\n",
    "# Update layout\n",
    "fig.update_layout(height=400, width=900, title_text=\"Color Channels of the Reconstructed Image with Rank \" + str(rank))\n",
    "\n",
    "# Show the plot\n",
    "fig.show()"
   ]
  },
  {
   "cell_type": "code",
   "execution_count": null,
   "id": "d8ea2b52-afc9-4480-b041-dbb8b7410258",
   "metadata": {},
   "outputs": [],
   "source": [
    "fig = px.imshow(cv2.merge([c1, c2, c3]))\n",
    "fig.show()"
   ]
  },
  {
   "cell_type": "code",
   "execution_count": null,
   "id": "45548fe2-3fc0-48f8-bb10-5763735bc5df",
   "metadata": {},
   "outputs": [],
   "source": [
    "def denoise_image_svd(image, rank):\n",
    "    # Split the image into color channels\n",
    "    channels = cv2.split(image)\n",
    "    denoised_channels = []\n",
    "    \n",
    "    for channel in channels:\n",
    "        # Perform SVD\n",
    "        U, s, Vt = np.linalg.svd(channel / 255, full_matrices=False)\n",
    "        \n",
    "        # Reconstruct the image using only the top 'rank' singular values\n",
    "        denoised_channel = np.dot(U[:, :rank], np.dot(np.diag(s[:rank]), Vt[:rank, :]))\n",
    "        \n",
    "        # Return Image to [0, 255] - Clip values to be between 0 and 255\n",
    "        denoised_channel = np.clip(denoised_channel * 255, 0, 255).astype(np.uint8)\n",
    "        denoised_channels.append(denoised_channel)\n",
    "    \n",
    "    # Merge the denoised channels\n",
    "    denoised_image = cv2.merge(denoised_channels)\n",
    "    return denoised_image"
   ]
  },
  {
   "cell_type": "code",
   "execution_count": null,
   "id": "8ed557bb-dff2-4b0f-a492-b004e7b67736",
   "metadata": {},
   "outputs": [],
   "source": [
    "ranks = list(range(1, 100))\n",
    "\n",
    "metrics = [0 for i in ranks]\n",
    "best_l1 = 1e4\n",
    "best_rank = -1\n",
    "best_index = -1\n",
    "\n",
    "for i, rank in enumerate(ranks):\n",
    "    img1_rgb_svd = denoise_image_svd(img1_rgb, rank)\n",
    "    img2_rgb_svd = denoise_image_svd(img2_rgb, rank)\n",
    "    img3_rgb_svd = denoise_image_svd(img3_rgb, rank)\n",
    "    img4_rgb_svd = denoise_image_svd(img4_rgb, rank)\n",
    "\n",
    "    l1_1 = abs(img1_rgb_gt - img1_rgb_svd).mean()\n",
    "    l1_2 = abs(img2_rgb_gt - img2_rgb_svd).mean()\n",
    "    l1_3 = abs(img3_rgb_gt - img3_rgb_svd).mean()\n",
    "    l1_4 = abs(img4_rgb_gt - img4_rgb_svd).mean()\n",
    "\n",
    "    l1_avg = (l1_1 + l1_2 + l1_3 + l1_4) / 4\n",
    "    metrics[i] = l1_avg\n",
    "\n",
    "    if l1_avg < best_l1:\n",
    "        best_rank = rank\n",
    "        best_l1 = l1_avg\n",
    "        best_index = i\n"
   ]
  },
  {
   "cell_type": "code",
   "execution_count": null,
   "id": "f99a674f-955a-443f-b3fe-cd96a8c95994",
   "metadata": {},
   "outputs": [],
   "source": [
    "# Create a Plotly Express scatter plot\n",
    "fig = px.scatter(x=ranks, y=metrics, title='Plot of Array Values', labels={'x':'rank', 'y':'Loss'})\n",
    "\n",
    "# Add a marker for the minimum point\n",
    "fig.add_trace(go.Scatter(\n",
    "    x=[best_rank],\n",
    "    y=[metrics[best_index]],\n",
    "    mode='markers+text',\n",
    "    marker=dict(size=5, color='red', symbol='star'),\n",
    "    text=['MIN'],\n",
    "    textposition=\"top center\"\n",
    "))\n",
    "\n",
    "fig. update_layout(showlegend=False)\n",
    "\n",
    "# Show the plot\n",
    "fig.show()\n"
   ]
  },
  {
   "cell_type": "code",
   "execution_count": null,
   "id": "c1375e71-a8a1-4754-95e1-5fcf5eff9a3f",
   "metadata": {},
   "outputs": [],
   "source": [
    "best_rank = 2"
   ]
  },
  {
   "cell_type": "code",
   "execution_count": null,
   "id": "9ae7b984-c429-4b6f-a7a5-5c7a903b0aa9",
   "metadata": {},
   "outputs": [],
   "source": [
    "# Denoise using wavelet transform\n",
    "img1_rgb_svd = denoise_image_svd(img1_rgb, best_rank)\n",
    "img2_rgb_svd = denoise_image_svd(img2_rgb, best_rank)\n",
    "img3_rgb_svd = denoise_image_svd(img3_rgb, best_rank)\n",
    "img4_rgb_svd = denoise_image_svd(img4_rgb, best_rank)\n",
    "\n",
    "# Create subplots for 4x3 layout\n",
    "fig = make_subplots(rows=4, cols=3, subplot_titles=(\n",
    "    \"Original Image 1\", \"Denoised Image 1\", \"Ground Truth 1\",\n",
    "    \"Original Image 2\", \"Denoised Image 2\", \"Ground Truth 2\",\n",
    "    \"Original Image 3\", \"Denoised Image 3\", \"Ground Truth 3\",\n",
    "    \"Original Image 4\", \"Denoised Image 4\", \"Ground Truth 4\"\n",
    "))\n",
    "\n",
    "fig.add_trace(go.Image(z=img1_rgb), row=1, col=1)  # Original Image 1\n",
    "fig.add_trace(go.Image(z=img1_rgb_svd), row=1, col=2)  # Denoised Image 1\n",
    "fig.add_trace(go.Image(z=img1_rgb_gt), row=1, col=3)  # Ground Truth 1\n",
    "\n",
    "fig.add_trace(go.Image(z=img2_rgb), row=2, col=1)  # Original Image 2\n",
    "fig.add_trace(go.Image(z=img2_rgb_svd), row=2, col=2)  # Denoised Image 2\n",
    "fig.add_trace(go.Image(z=img2_rgb_gt), row=2, col=3)  # Ground Truth 2\n",
    "\n",
    "fig.add_trace(go.Image(z=img3_rgb), row=3, col=1)  # Original Image 3\n",
    "fig.add_trace(go.Image(z=img3_rgb_svd), row=3, col=2)  # Denoised Image 3\n",
    "fig.add_trace(go.Image(z=img3_rgb_gt), row=3, col=3)  # Ground Truth 3\n",
    "\n",
    "fig.add_trace(go.Image(z=img4_rgb), row=4, col=1)  # Original Image 4\n",
    "fig.add_trace(go.Image(z=img4_rgb_svd), row=4, col=2)  # Denoised Image 4\n",
    "fig.add_trace(go.Image(z=img4_rgb_gt), row=4, col=3)  # Ground Truth 4\n",
    "\n",
    "# Remove axes for all subplots\n",
    "fig.update_xaxes(showticklabels=False, showgrid=False, zeroline=False)\n",
    "fig.update_yaxes(showticklabels=False, showgrid=False, zeroline=False)\n",
    "\n",
    "fig.update_layout(height=1000, \n",
    "                  width=900, \n",
    "                  title_text=\"Image Denoising using SVD (4x3 Layout)\",\n",
    "                  margin=dict(l=20, r=20, t=80, b=20),  # Reduce margins\n",
    ")\n",
    "\n",
    "fig.show()"
   ]
  },
  {
   "cell_type": "code",
   "execution_count": null,
   "id": "ebe12b4a-f62d-4f95-81e2-f1f8fc65ebb8",
   "metadata": {},
   "outputs": [],
   "source": []
  }
 ],
 "metadata": {
  "kernelspec": {
   "display_name": "Python 3 (ipykernel)",
   "language": "python",
   "name": "python3"
  },
  "language_info": {
   "codemirror_mode": {
    "name": "ipython",
    "version": 3
   },
   "file_extension": ".py",
   "mimetype": "text/x-python",
   "name": "python",
   "nbconvert_exporter": "python",
   "pygments_lexer": "ipython3",
   "version": "3.8.18"
  }
 },
 "nbformat": 4,
 "nbformat_minor": 5
}
