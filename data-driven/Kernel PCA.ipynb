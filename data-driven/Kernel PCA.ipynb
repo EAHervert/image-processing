{
 "cells": [
  {
   "cell_type": "code",
   "execution_count": null,
   "id": "3a62e27c-fba0-428f-a863-ebafefc7baf4",
   "metadata": {},
   "outputs": [],
   "source": [
    "import numpy as np\n",
    "\n",
    "from sklearn.datasets import fetch_openml\n",
    "from sklearn.model_selection import train_test_split\n",
    "from sklearn.preprocessing import MinMaxScaler\n",
    "import matplotlib.pyplot as plt\n",
    "from sklearn.decomposition import KernelPCA\n",
    "from skimage.metrics import structural_similarity as ssim\n"
   ]
  },
  {
   "cell_type": "code",
   "execution_count": null,
   "id": "2af64479-c20e-4538-979a-3f68397cb11f",
   "metadata": {},
   "outputs": [],
   "source": [
    "def plot_digits(X, title):\n",
    "    \"\"\"Small helper function to plot 100 digits.\"\"\"\n",
    "    fig, axs = plt.subplots(nrows=10, ncols=10, figsize=(8, 8))\n",
    "    for img, ax in zip(X, axs.ravel()):\n",
    "        ax.imshow(img.reshape((16, 16)), cmap=\"Greys\")\n",
    "        ax.axis(\"off\")\n",
    "    fig.suptitle(title, fontsize=24)\n",
    "\n",
    "def SSIM_Batch(X, X_true):\n",
    "    m, _ = X.shape\n",
    "    ssim_val = 0\n",
    "    for i in range(m):\n",
    "        ns = X[i].reshape((16, 16))\n",
    "        gt = X_true[i].reshape((16, 16))\n",
    "\n",
    "        ssim_val += ssim(ns, gt, data_range=1.0)\n",
    "\n",
    "    return ssim_val / m\n"
   ]
  },
  {
   "cell_type": "code",
   "execution_count": null,
   "id": "fcdde160-4425-44e0-a814-d99b1e251d34",
   "metadata": {},
   "outputs": [],
   "source": [
    "X, y = fetch_openml(data_id=41082, as_frame=False, return_X_y=True)\n",
    "X = MinMaxScaler().fit_transform(X)"
   ]
  },
  {
   "cell_type": "code",
   "execution_count": null,
   "id": "e2836c76-0f76-4404-a4e7-e3ff8104c4c4",
   "metadata": {},
   "outputs": [],
   "source": [
    "X_train, X_test, y_train, y_test = train_test_split(\n",
    "    X, y, stratify=y, random_state=0, train_size=1_000, test_size=100\n",
    ")\n",
    "\n",
    "rng = np.random.RandomState(0)\n",
    "noise = rng.normal(scale=0.25, size=X_test.shape)\n",
    "X_test_noisy = X_test + noise\n",
    "\n",
    "noise = rng.normal(scale=0.25, size=X_train.shape)\n",
    "X_train_noisy = X_train + noise"
   ]
  },
  {
   "cell_type": "code",
   "execution_count": null,
   "id": "62ddd25c-6f41-4a85-8686-794295f0c4c8",
   "metadata": {},
   "outputs": [],
   "source": [
    "plot_digits(X_test, \"Uncorrupted test images\")\n",
    "plot_digits(\n",
    "    X_test_noisy, f\"Noisy test images\\nMSE: {np.mean((X_test - X_test_noisy) ** 2):.2f}\"\n",
    ")"
   ]
  },
  {
   "cell_type": "markdown",
   "id": "b3dcb49a-30bb-416f-87a3-3931ebabeff8",
   "metadata": {},
   "source": [
    "# Kernel PCA - Principal Component Analysis\n",
    "\n",
    "We will build on PCA but this time, in order to perform the denoising, what we will do is the following:\n"
   ]
  },
  {
   "cell_type": "markdown",
   "id": "ab37b714-fdba-42af-8aaf-c255cbe25bd9",
   "metadata": {},
   "source": [
    "# Calculate PCA"
   ]
  },
  {
   "cell_type": "code",
   "execution_count": null,
   "id": "b4adfa1e-2a6d-48b3-b6ba-dc5e929a54c8",
   "metadata": {},
   "outputs": [],
   "source": [
    "GAMMA = 1e-3\n",
    "ALPHA = 1e-4\n",
    "r_val = 32"
   ]
  },
  {
   "cell_type": "code",
   "execution_count": null,
   "id": "c0a746ee-ff07-4d91-95f3-b9ec1b5f0cbc",
   "metadata": {},
   "outputs": [],
   "source": [
    "kernel_pca = KernelPCA(\n",
    "    n_components=r_val,\n",
    "    kernel=\"rbf\",\n",
    "    gamma=GAMMA,\n",
    "    alpha=ALPHA,\n",
    "    fit_inverse_transform=True,\n",
    ")\n",
    "\n",
    "_ = kernel_pca.fit(X_train_noisy)\n",
    "\n",
    "Z_test_noisy = kernel_pca.transform(X_test_noisy)\n",
    "X_test_kpca = kernel_pca.inverse_transform(Z_test_noisy)\n",
    "print('MSE Error: ', np.mean((X_test_kpca - X_test) ** 2))"
   ]
  },
  {
   "cell_type": "code",
   "execution_count": null,
   "id": "3fa58e5a-7b8e-48a8-a2e1-80dd4d363e6c",
   "metadata": {},
   "outputs": [],
   "source": [
    "plot_digits(X_test, \"Uncorrupted test images\")\n",
    "plot_digits(\n",
    "    X_test_noisy, f\"Noisy test images\\nMSE: {np.mean((X_test - X_test_noisy) ** 2):.3f}\"\n",
    ")\n",
    "plot_digits(\n",
    "    X_test_kpca,\n",
    "    f\"PCA reconstruction, k = {r_val}, \\nMSE: {np.mean((X_test - X_test_kpca) ** 2):.3f}\".format(k=r_val),\n",
    ")"
   ]
  },
  {
   "cell_type": "markdown",
   "id": "9e1052de-10f6-4381-b2ef-2123ee827e5d",
   "metadata": {},
   "source": [
    "## Find the best $r$ value for this denoising method"
   ]
  },
  {
   "cell_type": "code",
   "execution_count": null,
   "id": "ea63efeb-822b-4f4e-b519-8fd00e9be10d",
   "metadata": {},
   "outputs": [],
   "source": [
    "k_vals = np.arange(1, 256 + 1, 1)"
   ]
  },
  {
   "cell_type": "code",
   "execution_count": null,
   "id": "0d89b13d-ae64-4e6f-82f6-d1d1ee0d1ad6",
   "metadata": {},
   "outputs": [],
   "source": [
    "MSE = []\n",
    "SSIM_array = []\n",
    "for k in k_vals:\n",
    "\n",
    "    kernel_pca = KernelPCA(\n",
    "        n_components=k,\n",
    "        kernel=\"rbf\",\n",
    "        gamma=GAMMA,\n",
    "        alpha=ALPHA,\n",
    "        fit_inverse_transform=True)\n",
    "    \n",
    "    _ = kernel_pca.fit(X_train_noisy)\n",
    "\n",
    "    Z_test_noisy = kernel_pca.transform(X_test_noisy)\n",
    "    X_test_kpca = kernel_pca.inverse_transform(Z_test_noisy)\n",
    "\n",
    "    MSE.append(np.mean((X_test_kpca - X_test) ** 2))\n",
    "    SSIM_array.append(SSIM_Batch(X_test_kpca, X_test))"
   ]
  },
  {
   "cell_type": "code",
   "execution_count": null,
   "id": "9e0e3d9c-79ce-41f6-857b-5d9733b7b423",
   "metadata": {},
   "outputs": [],
   "source": [
    "import plotly.express as px\n",
    "import plotly.graph_objects as go\n",
    "from plotly.subplots import make_subplots\n",
    "\n",
    "fig = make_subplots(specs=[[{\"secondary_y\": True}]])\n",
    "fig.add_trace(go.Scatter(x=k_vals, y=MSE, name='MSE'), secondary_y=False)\n",
    "# fig.add_trace(go.Scatter(x=k_vals, y=SSIM_array, name='SSIM'), secondary_y=True)\n",
    "\n",
    "fig.update_layout(\n",
    "    xaxis_title='Principal Components',\n",
    "    yaxis_title='Loss',\n",
    "    width=1000,  # Set width of the graph\n",
    "    height=400  # Set height of the graph\n",
    ")\n",
    "\n",
    "fig.show()"
   ]
  },
  {
   "cell_type": "code",
   "execution_count": null,
   "id": "559da785-a6ea-4849-b2a0-9e200e9bc512",
   "metadata": {},
   "outputs": [],
   "source": [
    "k = 31\n",
    "kernel_pca = KernelPCA(\n",
    "    n_components=k,\n",
    "    kernel=\"rbf\",\n",
    "    gamma=GAMMA,\n",
    "    alpha=ALPHA,\n",
    "    fit_inverse_transform=True)\n",
    "\n",
    "_ = kernel_pca.fit(X_train_noisy)\n",
    "\n",
    "Z_test_noisy = kernel_pca.transform(X_test_noisy)\n",
    "X_test_kpca = kernel_pca.inverse_transform(Z_test_noisy)\n",
    "print('MSE Error: ', np.mean((X_test_kpca - X_test) ** 2))"
   ]
  },
  {
   "cell_type": "code",
   "execution_count": null,
   "id": "75b93dd1-7e5f-4a9e-9bf6-3380d488543e",
   "metadata": {},
   "outputs": [],
   "source": [
    "def plot_digits_plotly(X):\n",
    "    \"\"\"Small helper function to plot 64 digits using plotly.\"\"\"\n",
    "    # Create subplot grid\n",
    "    fig = make_subplots(rows=8, cols=8)\n",
    "    \n",
    "    # Add each image as a heatmap\n",
    "    for idx, img in enumerate(X[:64]):\n",
    "        row = idx // 8 + 1\n",
    "        col = idx % 8 + 1\n",
    "        \n",
    "        # Reshape image and create heatmap\n",
    "        img_reshaped = img.reshape((16, 16))\n",
    "        fig.add_trace(\n",
    "            go.Heatmap(z=img_reshaped, \n",
    "                      colorscale='Greys',\n",
    "                      showscale=False),\n",
    "            row=row, col=col\n",
    "        )\n",
    "        \n",
    "        # Remove axes for each subplot\n",
    "        fig.update_xaxes(showticklabels=False, showgrid=False, row=row, col=col)\n",
    "        fig.update_yaxes(autorange=\"reversed\", showticklabels=False, showgrid=False, row=row, col=col)\n",
    "    \n",
    "    # Update layout\n",
    "    fig.update_layout(\n",
    "        width=800,\n",
    "        height=800,\n",
    "        showlegend=False,\n",
    "        margin=dict(t=0, l=0, r=0, b=0)\n",
    "    )\n",
    "    \n",
    "    return fig\n"
   ]
  },
  {
   "cell_type": "code",
   "execution_count": null,
   "id": "72065e73-e7ff-4daa-a951-0646ffc46d9d",
   "metadata": {},
   "outputs": [],
   "source": [
    "plot_digits_plotly(X_test)\n"
   ]
  },
  {
   "cell_type": "code",
   "execution_count": null,
   "id": "9833e198-bfd6-4136-88d4-14fac2619ad0",
   "metadata": {},
   "outputs": [],
   "source": [
    "plot_digits_plotly(X_test_noisy)"
   ]
  },
  {
   "cell_type": "code",
   "execution_count": null,
   "id": "bda1d274-b397-4751-b5d4-743beb714baa",
   "metadata": {},
   "outputs": [],
   "source": [
    "plot_digits_plotly(X_test_kpca)"
   ]
  },
  {
   "cell_type": "code",
   "execution_count": null,
   "id": "cddce0f6-ab27-43d9-be72-8e4bee4a9b21",
   "metadata": {},
   "outputs": [],
   "source": [
    "SSIM_Batch(X_test_kpca, X_test)"
   ]
  },
  {
   "cell_type": "code",
   "execution_count": null,
   "id": "fcc0172b-712e-4fd5-b1a5-36d802bc3640",
   "metadata": {},
   "outputs": [],
   "source": []
  }
 ],
 "metadata": {
  "kernelspec": {
   "display_name": "Python 3 (ipykernel)",
   "language": "python",
   "name": "python3"
  },
  "language_info": {
   "codemirror_mode": {
    "name": "ipython",
    "version": 3
   },
   "file_extension": ".py",
   "mimetype": "text/x-python",
   "name": "python",
   "nbconvert_exporter": "python",
   "pygments_lexer": "ipython3",
   "version": "3.8.18"
  }
 },
 "nbformat": 4,
 "nbformat_minor": 5
}
