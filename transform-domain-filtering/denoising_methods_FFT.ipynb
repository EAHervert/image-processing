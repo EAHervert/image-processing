{
 "cells": [
  {
   "cell_type": "code",
   "execution_count": null,
   "id": "6e49fa77-8697-43e1-99bb-8c2317b512a2",
   "metadata": {},
   "outputs": [],
   "source": [
    "import plotly.graph_objects as go\n",
    "from plotly.subplots import make_subplots\n",
    "\n",
    "import cv2\n",
    "import scipy.io\n",
    "import numpy as np\n",
    "from skimage.metrics import structural_similarity as ssim\n",
    "from skimage.metrics import peak_signal_noise_ratio as psnr\n",
    "import os\n",
    "from image_processing_utilities.functions import validation_dataset_generator\n",
    "from denoising_functions import fft_denoising, mask_a_b\n"
   ]
  },
  {
   "cell_type": "code",
   "execution_count": null,
   "id": "92855f09-5f0f-4a94-8e53-cc2970b0a3d0",
   "metadata": {},
   "outputs": [],
   "source": [
    "def l2_samples(samples, samples_gt):\n",
    "    val = 0\n",
    "    for i in range(4):\n",
    "        for j in range(4):\n",
    "            val += np.square(samples[i][j] - samples_gt[i][j]).mean()\n",
    "\n",
    "    return val / 16\n",
    "\n",
    "def ssim_samples(samples, samples_gt):\n",
    "    val = 0\n",
    "    for i in range(4):\n",
    "        for j in range(4):\n",
    "            val += ssim(samples[i][j], samples_gt[i][j], channel_axis=2)\n",
    "\n",
    "    return val / 16\n",
    "\n",
    "def psnr_samples(samples, samples_gt):\n",
    "    val = 0\n",
    "    for i in range(4):\n",
    "        for j in range(4):\n",
    "            val += psnr(samples[i][j], samples_gt[i][j])\n",
    "\n",
    "    return val / 16"
   ]
  },
  {
   "cell_type": "code",
   "execution_count": null,
   "id": "e01a29c9-6144-4e4b-ab78-ac038423f50f",
   "metadata": {},
   "outputs": [],
   "source": [
    "def mask_ellipse(a, b):\n",
    "    mask = np.zeros((256, 256))\n",
    "    x, y = np.ogrid[:256, :256]\n",
    "    mask_area = ((x - 127) / a) ** 2 + ((y - 127) / b) ** 2 <= 1\n",
    "    mask[mask_area] = 1\n",
    "\n",
    "    return mask\n",
    "\n",
    "def mask_diamond(a, b):\n",
    "    mask = np.zeros((256, 256))\n",
    "    x, y = np.ogrid[:256, :256]\n",
    "    mask_area = abs((x - 127) / a) + abs((y - 127) / b) <= 1\n",
    "    mask[mask_area] = 1\n",
    "\n",
    "    return mask\n",
    "\n",
    "def mask_star(a, b):\n",
    "    mask = np.zeros((256, 256))\n",
    "    x, y = np.ogrid[:256, :256]\n",
    "    mask_area = abs((x - 127) / a) ** 0.5 + abs((y - 127) / b) ** 0.5 <= 1\n",
    "    mask[mask_area] = 1\n",
    "\n",
    "    return mask\n"
   ]
  },
  {
   "cell_type": "code",
   "execution_count": null,
   "id": "e6ace898-ed18-4735-bed7-bddd3e9e3650",
   "metadata": {},
   "outputs": [],
   "source": [
    "dataset = 'SIDD'\n",
    "method = 'FFT'\n",
    "mask_type = 'Star'"
   ]
  },
  {
   "cell_type": "code",
   "execution_count": null,
   "id": "234fd658-8812-48d2-8a38-59bb33bf098b",
   "metadata": {},
   "outputs": [],
   "source": [
    "x_noisy, x_gt = validation_dataset_generator(dataset=dataset)\n"
   ]
  },
  {
   "cell_type": "code",
   "execution_count": null,
   "id": "83136149-6ece-46f2-8707-d2cafe029b0a",
   "metadata": {},
   "outputs": [],
   "source": [
    "# Sample Images\n",
    "image_samples = [1, 10, 17, 23]\n",
    "image_crops = [2, 4, 7, 11]\n",
    "samples_noisy = np.array([[x_noisy[i, j] for j in image_crops] for i in image_samples])\n",
    "samples_gt = np.array([[x_gt[i, j] for j in image_crops] for i in image_samples])"
   ]
  },
  {
   "cell_type": "code",
   "execution_count": null,
   "id": "154a2a54-014e-4f3a-bfb1-dc84e45c1630",
   "metadata": {},
   "outputs": [],
   "source": [
    "# Create subplot figure with 2 rows and 2 columns\n",
    "fig = make_subplots(rows=4, cols=4, subplot_titles=(\n",
    "    \"Noisy 01\", \"GT 01\", \"Noisy 02\", \"GT 02\", \n",
    "    \"Noisy 03\", \"GT 03\", \"Noisy 04\", \"GT 04\",\n",
    "    \"Noisy 05\", \"GT 05\", \"Noisy 06\", \"GT 06\", \n",
    "    \"Noisy 07\", \"GT 07\", \"Noisy 08\", \"GT 08\"\n",
    "))\n",
    "\n",
    "# Add images to the subplots\n",
    "fig.add_trace(go.Image(z=samples_noisy[0][1]), row=1, col=1)  # Noisy Image\n",
    "fig.add_trace(go.Image(z=samples_gt[0][1]), row=1, col=2)  # Ground Truth\n",
    "\n",
    "fig.add_trace(go.Image(z=samples_noisy[1][0]), row=1, col=3)  # Noisy Image\n",
    "fig.add_trace(go.Image(z=samples_gt[1][0]), row=1, col=4)  # Ground Truth\n",
    "\n",
    "fig.add_trace(go.Image(z=samples_noisy[1][3]), row=2, col=1)  # Noisy Image\n",
    "fig.add_trace(go.Image(z=samples_gt[1][3]), row=2, col=2)  # Ground Truth\n",
    "\n",
    "fig.add_trace(go.Image(z=samples_noisy[2][0]), row=2, col=3)  # Noisy Image\n",
    "fig.add_trace(go.Image(z=samples_gt[2][0]), row=2, col=4)  # Ground Truth\n",
    "\n",
    "fig.add_trace(go.Image(z=samples_noisy[3][0]), row=3, col=1)  # Noisy Image\n",
    "fig.add_trace(go.Image(z=samples_gt[3][0]), row=3, col=2)  # Ground Truth\n",
    "\n",
    "fig.add_trace(go.Image(z=samples_noisy[3][1]), row=3, col=3)  # Noisy Image\n",
    "fig.add_trace(go.Image(z=samples_gt[3][1]), row=3, col=4)  # Ground Truth\n",
    "\n",
    "fig.add_trace(go.Image(z=samples_noisy[3][2]), row=4, col=1)  # Noisy Image\n",
    "fig.add_trace(go.Image(z=samples_gt[3][2]), row=4, col=2)  # Ground Truth\n",
    "\n",
    "fig.add_trace(go.Image(z=samples_noisy[3][3]), row=4, col=3)  # Noisy Image\n",
    "fig.add_trace(go.Image(z=samples_gt[3][3]), row=4, col=4)  # Ground Truth\n",
    "\n",
    "# Remove axes for all subplots\n",
    "fig.update_xaxes(showticklabels=False, showgrid=False, zeroline=False)\n",
    "fig.update_yaxes(showticklabels=False, showgrid=False, zeroline=False)\n",
    "\n",
    "fig.update_layout(height=1000, \n",
    "                  width=1200, \n",
    "                  title_text=\"Noisy and Ground Truth Images\",\n",
    "                  margin=dict(l=20, r=20, t=80, b=20),  # Reduce margins\n",
    ")\n",
    "fig.show()"
   ]
  },
  {
   "cell_type": "code",
   "execution_count": null,
   "id": "b27740ae-4f2e-4f9e-ad3b-91be6c6097b4",
   "metadata": {},
   "outputs": [],
   "source": [
    "A = list(range(1, 50, 1))\n",
    "B = list(range(1, 50, 1))"
   ]
  },
  {
   "cell_type": "code",
   "execution_count": null,
   "id": "86c62966-458b-4909-a26a-53ab45dc0e42",
   "metadata": {},
   "outputs": [],
   "source": [
    "print('ORIGINAL VALUES\\n')\n",
    "\n",
    "print('L2: ', l2_samples(samples_noisy, samples_gt))\n",
    "print('SSIM: ', ssim_samples(samples_noisy, samples_gt))\n",
    "print('PSNR: ', psnr_samples(samples_noisy, samples_gt))"
   ]
  },
  {
   "cell_type": "code",
   "execution_count": null,
   "id": "fbcb9a7d-379d-4a09-ae90-51aa77652250",
   "metadata": {},
   "outputs": [],
   "source": [
    "best_loss = 1e4\n",
    "best_a = None\n",
    "best_b = None\n",
    "best_index = None\n",
    "\n",
    "metrics = np.zeros((len(A), len(B)))\n",
    "for i, a in enumerate(A):\n",
    "    for j, b in enumerate(B):\n",
    "        if mask_type == 'Ellipse':\n",
    "            mask = mask_ellipse(a, b)\n",
    "        elif mask_type == 'Diamond':\n",
    "            mask = mask_diamond(a, b)\n",
    "        else:\n",
    "            mask = mask_star(a, b)\n",
    "\n",
    "        test = fft_samples(samples_noisy, mask)\n",
    "\n",
    "        avg_loss = 1 - ssim_samples(test, samples_gt)\n",
    "        metrics[i, j] = avg_loss\n",
    "        print(a, b)\n",
    "        if avg_loss < best_loss:\n",
    "            best_index = [i, j]\n",
    "            best_a = a\n",
    "            best_b = b\n",
    "            best_loss = avg_loss\n",
    "\n",
    "print(best_a, best_b)"
   ]
  },
  {
   "cell_type": "code",
   "execution_count": null,
   "id": "64395ae9-fe56-4bb4-a4dd-cffab81d90ed",
   "metadata": {},
   "outputs": [],
   "source": [
    "metrics_normalized = (metrics - metrics.min()) / (metrics.max() - metrics.min())\n",
    "\n",
    "fig = go.Figure(data=go.Heatmap(z=metrics_normalized.T, x=A, y=B, colorscale='viridis'))\n",
    "# Add a star annotation for the minimum value\n",
    "fig.add_annotation(\n",
    "    x=best_a, y=best_b,\n",
    "    text=\"★ min\",\n",
    "    showarrow=False,\n",
    "    font=dict(size=10, color=\"red\")\n",
    ")    \n",
    "fig.update_layout(height=800, width=800, \n",
    "    xaxis_title='A',\n",
    "    yaxis_title='B'\n",
    ")\n"
   ]
  },
  {
   "cell_type": "raw",
   "id": "7e133903-05a0-419c-8254-7f905bf756ae",
   "metadata": {},
   "source": [
    "# Create the 3D surface plot\n",
    "fig = go.Figure(data=[go.Surface(z=metrics_normalized.T, x=A, y=B, colorscale='Viridis')])\n",
    "\n",
    "# Update layout\n",
    "fig.update_layout(height=600, width=600,\n",
    "    scene=dict(\n",
    "        xaxis_title='A',\n",
    "        yaxis_title='B',\n",
    "        zaxis_title='Normalized Loss'\n",
    "    )\n",
    ")\n",
    "\n",
    "# Show the plot\n",
    "fig.show()"
   ]
  },
  {
   "cell_type": "code",
   "execution_count": null,
   "id": "398cfe2e-7aab-438b-a67d-4a09713d1d9d",
   "metadata": {},
   "outputs": [],
   "source": [
    "best_a, best_b = 5, 5"
   ]
  },
  {
   "cell_type": "code",
   "execution_count": null,
   "id": "4a17b18d-5d8d-4423-bd28-0849bdf95212",
   "metadata": {},
   "outputs": [],
   "source": [
    "mask = mask_a_b(samples_noisy[0, 0], best_a, best_b, shape=mask_type)\n",
    "denoised = fft_samples(samples_noisy, mask)\n",
    "\n",
    "print('Denoised VALUES\\n')\n",
    "\n",
    "print('L2: ', l2_samples(denoised, samples_gt))\n",
    "print('SSIM: ', ssim_samples(denoised, samples_gt))\n",
    "print('PSNR: ', psnr_samples(denoised, samples_gt))"
   ]
  },
  {
   "cell_type": "code",
   "execution_count": null,
   "id": "02f1e08a-2fc9-42d2-8090-b9610f1ade4d",
   "metadata": {},
   "outputs": [],
   "source": [
    "mask = mask_a_b(samples_noisy[0, 0], best_a, best_b, shape='Ellipse')\n"
   ]
  },
  {
   "cell_type": "code",
   "execution_count": null,
   "id": "02be94c6-2933-40e0-a508-1b6ae5c448b8",
   "metadata": {},
   "outputs": [],
   "source": [
    "mask"
   ]
  },
  {
   "cell_type": "code",
   "execution_count": null,
   "id": "21fcd344-76a8-4206-8006-473d5e3e2c8d",
   "metadata": {},
   "outputs": [],
   "source": [
    "test = samples_noisy[0, 0, :, :, 0]\n",
    "test"
   ]
  },
  {
   "cell_type": "code",
   "execution_count": null,
   "id": "76709ab3-02bf-4766-96cf-ee0b4cc42b89",
   "metadata": {},
   "outputs": [],
   "source": [
    "import plotly.express as px\n",
    "fig = px.imshow(test, color_continuous_scale='gray')\n",
    "fig.show()\n"
   ]
  },
  {
   "cell_type": "code",
   "execution_count": null,
   "id": "96e857a3-898a-4492-8ce0-07fb5d7422c9",
   "metadata": {},
   "outputs": [],
   "source": [
    "def denoise_fft(image: np.ndarray[np.uint8],\n",
    "                mask: np.ndarray[np.uint8]) -> np.ndarray[np.uint8]:\n",
    "    transform = np.fft.fft2(image)  # Transforms the image to the frequency domain\n",
    "    shifted_transform = np.fft.fftshift(transform)  # Shifts the image\n",
    "    mask_transform = shifted_transform * mask  # Applies the mask\n",
    "    print(mask.mean())\n",
    "    print(mask_transform.mean())\n",
    "    inverse_shifted_mask_transform = np.fft.ifftshift(mask_transform)  # Inverse Shift\n",
    "    inverse_transform = np.fft.ifft2(inverse_shifted_mask_transform)  # Inverse transform\n",
    "    real_inverse_transform = np.abs(inverse_transform)  # Return only real values\n",
    "    mask_image = np.clip(real_inverse_transform, 0, 255).astype(np.uint8)  # Final image\n",
    "\n",
    "    return mask_image"
   ]
  },
  {
   "cell_type": "code",
   "execution_count": null,
   "id": "1d137dc4-2239-4716-a010-b16cd0c463ca",
   "metadata": {},
   "outputs": [],
   "source": [
    "mask.mean()"
   ]
  },
  {
   "cell_type": "code",
   "execution_count": null,
   "id": "4a949b8f-819d-4479-9c66-8c556e4b1c39",
   "metadata": {},
   "outputs": [],
   "source": [
    "test_out = denoise_fft(test, mask)\n",
    "test_out"
   ]
  },
  {
   "cell_type": "code",
   "execution_count": null,
   "id": "d1ebb026-2777-40d0-9039-f4d769a052fb",
   "metadata": {},
   "outputs": [],
   "source": [
    "import plotly.express as px\n",
    "fig = px.imshow(test_out, color_continuous_scale='gray')\n",
    "fig.show()\n"
   ]
  },
  {
   "cell_type": "code",
   "execution_count": null,
   "id": "f6817d22-a6b0-49f1-a8cf-8632834bf7bc",
   "metadata": {},
   "outputs": [],
   "source": [
    "# Create subplot figure with 2 rows and 2 columns\n",
    "fig = make_subplots(rows=4, cols=6, subplot_titles=(\n",
    "    \"Noisy 01\", \"Denoised 01\", \"GT 01\", \"Noisy 02\", \"Denoised 02\", \"GT 02\", \n",
    "    \"Noisy 03\", \"Denoised 03\", \"GT 03\", \"Noisy 04\", \"Denoised 04\", \"GT 04\",\n",
    "    \"Noisy 05\", \"Denoised 05\", \"GT 05\", \"Noisy 06\", \"Denoised 06\", \"GT 06\", \n",
    "    \"Noisy 07\", \"Denoised 07\", \"GT 07\", \"Noisy 08\", \"Denoised 08\", \"GT 08\"\n",
    "))\n",
    "\n",
    "# Add images to the subplots\n",
    "fig.add_trace(go.Image(z=samples_noisy[0][1]), row=1, col=1)  # Noisy Image\n",
    "fig.add_trace(go.Image(z=denoised[0][1]), row=1, col=2)  # Denoised Image\n",
    "fig.add_trace(go.Image(z=samples_gt[0][1]), row=1, col=3)  # Ground Truth\n",
    "\n",
    "fig.add_trace(go.Image(z=samples_noisy[1][0]), row=1, col=4)  # Noisy Image\n",
    "fig.add_trace(go.Image(z=denoised[1][0]), row=1, col=5)  # Denoised Image\n",
    "fig.add_trace(go.Image(z=samples_gt[1][0]), row=1, col=6)  # Ground Truth\n",
    "\n",
    "fig.add_trace(go.Image(z=samples_noisy[1][3]), row=2, col=1)  # Noisy Image\n",
    "fig.add_trace(go.Image(z=denoised[1][3]), row=2, col=2)  # Denoised Image\n",
    "fig.add_trace(go.Image(z=samples_gt[1][3]), row=2, col=3)  # Ground Truth\n",
    "\n",
    "fig.add_trace(go.Image(z=samples_noisy[2][0]), row=2, col=4)  # Noisy Image\n",
    "fig.add_trace(go.Image(z=denoised[2][0]), row=2, col=5)  # Denoised Image\n",
    "fig.add_trace(go.Image(z=samples_gt[2][0]), row=2, col=6)  # Ground Truth\n",
    "\n",
    "fig.add_trace(go.Image(z=samples_noisy[3][0]), row=3, col=1)  # Noisy Image\n",
    "fig.add_trace(go.Image(z=denoised[3][0]), row=3, col=2)  # Denoised Image\n",
    "fig.add_trace(go.Image(z=samples_gt[3][0]), row=3, col=3)  # Ground Truth\n",
    "\n",
    "fig.add_trace(go.Image(z=samples_noisy[3][1]), row=3, col=4)  # Noisy Image\n",
    "fig.add_trace(go.Image(z=denoised[3][1]), row=3, col=5)  # Denoised Image\n",
    "fig.add_trace(go.Image(z=samples_gt[3][1]), row=3, col=6)  # Ground Truth\n",
    "\n",
    "fig.add_trace(go.Image(z=samples_noisy[3][2]), row=4, col=1)  # Noisy Image\n",
    "fig.add_trace(go.Image(z=denoised[3][2]), row=4, col=2)  # Denoised Image\n",
    "fig.add_trace(go.Image(z=samples_gt[3][2]), row=4, col=3)  # Ground Truth\n",
    "\n",
    "fig.add_trace(go.Image(z=samples_noisy[3][3]), row=4, col=4)  # Noisy Image\n",
    "fig.add_trace(go.Image(z=denoised[3][3]), row=4, col=5)  # Denoised Image\n",
    "fig.add_trace(go.Image(z=samples_gt[3][3]), row=4, col=6)  # Ground Truth\n",
    "\n",
    "# Remove axes for all subplots\n",
    "fig.update_xaxes(showticklabels=False, showgrid=False, zeroline=False)\n",
    "fig.update_yaxes(showticklabels=False, showgrid=False, zeroline=False)\n",
    "\n",
    "fig.update_layout(height=1000, \n",
    "                  width=1200, \n",
    "                  # title_text=\"Noisy and Ground Truth Images\",\n",
    "                  margin=dict(l=40, r=40, t=40, b=20),  # Reduce margins\n",
    ")\n",
    "fig.show()"
   ]
  },
  {
   "cell_type": "code",
   "execution_count": null,
   "id": "90c62b74-7319-477b-97da-07ffefec0760",
   "metadata": {},
   "outputs": [],
   "source": [
    "sample_noisy = samples_noisy[0, 3]\n",
    "sample_gt = samples_gt[0, 3]\n",
    "sample_denoised = denoised[0][3]"
   ]
  },
  {
   "cell_type": "code",
   "execution_count": null,
   "id": "82a074bb-d014-4094-9d09-5c9de113925e",
   "metadata": {},
   "outputs": [],
   "source": []
  }
 ],
 "metadata": {
  "kernelspec": {
   "display_name": "Python [conda env:ENAS]",
   "language": "python",
   "name": "conda-env-ENAS-py"
  },
  "language_info": {
   "codemirror_mode": {
    "name": "ipython",
    "version": 3
   },
   "file_extension": ".py",
   "mimetype": "text/x-python",
   "name": "python",
   "nbconvert_exporter": "python",
   "pygments_lexer": "ipython3",
   "version": "3.10.9"
  }
 },
 "nbformat": 4,
 "nbformat_minor": 5
}
