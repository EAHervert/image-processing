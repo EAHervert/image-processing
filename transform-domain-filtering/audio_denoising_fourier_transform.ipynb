{
 "cells": [
  {
   "cell_type": "markdown",
   "id": "5f16420f-2580-490d-a36b-ed1332ed30de",
   "metadata": {},
   "source": [
    "# Audio Denoising Using FFT"
   ]
  },
  {
   "cell_type": "code",
   "execution_count": null,
   "id": "e8ab518a-8917-4bdd-a6ab-79815a994a12",
   "metadata": {},
   "outputs": [],
   "source": [
    "import numpy as np\n",
    "from scipy.io import wavfile\n",
    "from scipy.fft import fft, ifft\n",
    "import IPython.display as ipd\n",
    "import soundfile as sf\n",
    "import librosa\n",
    "\n",
    "import plotly.graph_objects as go"
   ]
  },
  {
   "cell_type": "code",
   "execution_count": null,
   "id": "de0808ac-8910-49a4-97e7-a850391225a3",
   "metadata": {},
   "outputs": [],
   "source": [
    "def audio_similarity(arr_1, arr_2):\n",
    "    # Extract MFCCs\n",
    "    mfcc1 = librosa.feature.mfcc(y=arr_1)\n",
    "    mfcc2 = librosa.feature.mfcc(y=arr_2)\n",
    "    \n",
    "    # Ensure same length\n",
    "    min_len = min(mfcc1.shape[1], mfcc2.shape[1])\n",
    "    mfcc1 = mfcc1[:, :min_len]\n",
    "    mfcc2 = mfcc2[:, :min_len]\n",
    "    \n",
    "    # Calculate cosine similarity\n",
    "    similarity = np.mean(np.sum(mfcc1 * mfcc2, axis=0) / \n",
    "                         (np.linalg.norm(mfcc1, axis=0) * np.linalg.norm(mfcc2, axis=0)))\n",
    "    \n",
    "    return similarity"
   ]
  },
  {
   "cell_type": "code",
   "execution_count": null,
   "id": "6121b3da-cecc-4e14-b305-ecf8e9e399f9",
   "metadata": {},
   "outputs": [],
   "source": [
    "# Load the .wav file\n",
    "sample_rate, audio_data = wavfile.read('data/audio/c_major.wav')\n",
    "\n",
    "# If the audio is stereo, take the first channel\n",
    "if audio_data.ndim > 1:\n",
    "    audio_data = audio_data[:, 0]"
   ]
  },
  {
   "cell_type": "code",
   "execution_count": null,
   "id": "1e7bf899-f86a-4f97-8975-13c6338007a1",
   "metadata": {},
   "outputs": [],
   "source": [
    "# Create time array\n",
    "time = np.arange(0, len(audio_data)) / sample_rate\n",
    "\n",
    "# Create the plot\n",
    "fig = go.Figure()\n",
    "fig.add_trace(go.Scatter(x=time, y=audio_data, mode='lines'))\n",
    "\n",
    "# Update layout\n",
    "fig.update_layout(height=600, width=1800,\n",
    "    # title='Audio Waveform',\n",
    "    xaxis_title='Time (seconds)',\n",
    "    yaxis_title='Amplitude'\n",
    ")\n",
    "\n",
    "# Show the plot\n",
    "fig.show()"
   ]
  },
  {
   "cell_type": "code",
   "execution_count": null,
   "id": "41f9cdb9-6d4d-4445-88f2-7a7a289c221f",
   "metadata": {},
   "outputs": [],
   "source": [
    "# Create a temporary WAV file\n",
    "sf.write('data/audio/temp.wav', audio_data, sample_rate)\n",
    "\n",
    "# Play the sound\n",
    "ipd.display(ipd.Audio('data/audio/temp.wav'))"
   ]
  },
  {
   "cell_type": "code",
   "execution_count": null,
   "id": "55670d04-ba60-4a26-9504-9870e7536c22",
   "metadata": {},
   "outputs": [],
   "source": [
    "# Perform Fourier Transform\n",
    "fft_result = fft(audio_data)\n",
    "frequencies = np.fft.fftfreq(len(fft_result), 1/sample_rate)\n"
   ]
  },
  {
   "cell_type": "code",
   "execution_count": null,
   "id": "4e551197-c3cc-4a03-adee-0a14a0372cb0",
   "metadata": {},
   "outputs": [],
   "source": [
    "# Create the plot\n",
    "fig = go.Figure()\n",
    "fig.add_trace(go.Scatter(x=frequencies, y=np.abs(fft_result), mode='lines'))\n",
    "\n",
    "# Customize the layout\n",
    "fig.update_layout(height=600, width=1000,\n",
    "    # title='Fourier Transform of Audio File',\n",
    "    xaxis_title='Frequency (Hz)',\n",
    "    yaxis_title='Magnitude',\n",
    "    xaxis_range=[0, sample_rate/2]  # Display only positive frequencies\n",
    ")\n",
    "\n",
    "# Show the plot\n",
    "fig.show()"
   ]
  },
  {
   "cell_type": "code",
   "execution_count": null,
   "id": "49fbf756-f4b5-4073-be0a-584d28363b98",
   "metadata": {},
   "outputs": [],
   "source": [
    "# Create the plot\n",
    "fig = go.Figure()\n",
    "fig.add_trace(go.Scatter(x=frequencies, y=np.abs(fft_result), mode='lines'))\n",
    "\n",
    "# Customize the layout\n",
    "fig.update_layout(height=600, width=1000,\n",
    "    # title='Fourier Transform of Audio File',\n",
    "    xaxis_title='Frequency (Hz)',\n",
    "    yaxis_title='Magnitude',\n",
    "    xaxis_range=[0, sample_rate/2],  # Display only positive frequencies\n",
    "    yaxis_range=[0, 1.5e6]  # Display only positive frequencies\n",
    ")\n",
    "\n",
    "# Show the plot\n",
    "fig.show()"
   ]
  },
  {
   "cell_type": "markdown",
   "id": "086f8cdc-3738-47f9-bfd6-bc3dea9e3f8a",
   "metadata": {},
   "source": [
    "# Add Noise"
   ]
  },
  {
   "cell_type": "code",
   "execution_count": null,
   "id": "f6776494-9928-49f7-a6e6-2dbe7cdf6e90",
   "metadata": {},
   "outputs": [],
   "source": [
    "# Add Gaussian white noise\n",
    "noise_level = int(0.1 * audio_data.max())  # Adjust this value to control the amount of noise\n",
    "noise = np.random.normal(0, noise_level, audio_data.shape)\n",
    "noisy_audio = audio_data + noise.astype(np.int16)"
   ]
  },
  {
   "cell_type": "code",
   "execution_count": null,
   "id": "29740aa7-c004-4907-a14d-5bda4c67da38",
   "metadata": {},
   "outputs": [],
   "source": [
    "# Create time array\n",
    "time = np.arange(0, len(noisy_audio)) / sample_rate\n",
    "\n",
    "# Create the plot\n",
    "fig = go.Figure()\n",
    "fig.add_trace(go.Scatter(x=time, y=noisy_audio, mode='lines'))\n",
    "\n",
    "# Update layout\n",
    "fig.update_layout(height=600, width=1800,\n",
    "    # title='Noisy Audio Waveform',\n",
    "    xaxis_title='Time (seconds)',\n",
    "    yaxis_title='Amplitude'\n",
    ")\n",
    "\n",
    "# Show the plot\n",
    "fig.show()"
   ]
  },
  {
   "cell_type": "code",
   "execution_count": null,
   "id": "fc22642f-8085-4cd5-b4ca-ddc2af5e8642",
   "metadata": {},
   "outputs": [],
   "source": [
    "# Create a temporary WAV file\n",
    "sf.write('data/audio/temp_noisy.wav', noisy_audio, sample_rate)\n",
    "\n",
    "# Play the sound\n",
    "ipd.display(ipd.Audio('data/audio/temp_noisy.wav'))"
   ]
  },
  {
   "cell_type": "code",
   "execution_count": null,
   "id": "eb7c1704-ef8f-42f3-9a32-88a7b358e610",
   "metadata": {},
   "outputs": [],
   "source": [
    "# Perform Fourier Transform on the noisy audio\n",
    "fft_result_noisy = fft(noisy_audio)\n",
    "frequencies_noisy = np.fft.fftfreq(len(fft_result_noisy), 1/sample_rate)\n"
   ]
  },
  {
   "cell_type": "code",
   "execution_count": null,
   "id": "e98417a8-43a3-42a7-8ceb-59364ae7ea81",
   "metadata": {},
   "outputs": [],
   "source": [
    "# Create the plot\n",
    "fig = go.Figure()\n",
    "fig.add_trace(go.Scatter(x=frequencies_noisy, y=np.abs(fft_result_noisy), mode='lines'))\n",
    "\n",
    "# Customize the layout\n",
    "fig.update_layout(height=600, width=1000,\n",
    "    # title='Fourier Transform of Noisy Audio File',\n",
    "    xaxis_title='Frequency (Hz)',\n",
    "    yaxis_title='Magnitude',\n",
    "    xaxis_range=[0, sample_rate/2]  # Display only positive frequencies\n",
    ")\n",
    "\n",
    "# Show the plot\n",
    "fig.show()"
   ]
  },
  {
   "cell_type": "code",
   "execution_count": null,
   "id": "a5473238-fe5e-4245-a5dd-209f8f7ad1f5",
   "metadata": {},
   "outputs": [],
   "source": [
    "# Create the plot\n",
    "fig = go.Figure()\n",
    "fig.add_trace(go.Scatter(x=frequencies_noisy, y=np.abs(fft_result_noisy), mode='lines'))\n",
    "\n",
    "# Customize the layout\n",
    "fig.update_layout(height=600, width=1000,\n",
    "    # title='Fourier Transform of Noisy Audio File',\n",
    "    xaxis_title='Frequency (Hz)',\n",
    "    yaxis_title='Magnitude',\n",
    "    xaxis_range=[0, sample_rate/2],  # Display only positive frequencies\n",
    "    yaxis_range=[0, 1.5e6]  # Display only positive frequencies\n",
    ")\n",
    "\n",
    "# Show the plot\n",
    "fig.show()"
   ]
  },
  {
   "cell_type": "markdown",
   "id": "113fec6d-9c60-4ecc-9216-8d3845452f05",
   "metadata": {},
   "source": [
    "## Denoise the Signal using a Threshold"
   ]
  },
  {
   "cell_type": "code",
   "execution_count": null,
   "id": "42a784e6-a1f4-4f95-a6db-3dabf670eb6e",
   "metadata": {},
   "outputs": [],
   "source": [
    "threshold = int(1.4e6)  # Example threshold, adjust based on your signal\n",
    "fft_results_denoised = fft_result_noisy.copy()\n",
    "fft_results_denoised[np.abs(fft_results_denoised) < threshold] = 0\n"
   ]
  },
  {
   "cell_type": "code",
   "execution_count": null,
   "id": "b56967a8-03d5-4a01-bb88-b43711e5ca43",
   "metadata": {},
   "outputs": [],
   "source": [
    "# Create the plot\n",
    "fig = go.Figure()\n",
    "fig.add_trace(go.Scatter(x=frequencies_noisy, y=np.abs(fft_results_denoised), mode='lines'))\n",
    "\n",
    "# Customize the layout\n",
    "fig.update_layout(height=600, width=1000,\n",
    "    # title='Fourier Transform of Noisy Audio File',\n",
    "    xaxis_title='Frequency (Hz)',\n",
    "    yaxis_title='Magnitude',\n",
    "    xaxis_range=[0, sample_rate/2]  # Display only positive frequencies\n",
    ")\n",
    "\n",
    "# Show the plot\n",
    "fig.show()"
   ]
  },
  {
   "cell_type": "code",
   "execution_count": null,
   "id": "a1ad9b25-f971-448f-9a4f-74e594d754b5",
   "metadata": {},
   "outputs": [],
   "source": [
    "# Create the plot\n",
    "fig = go.Figure()\n",
    "fig.add_trace(go.Scatter(x=frequencies_noisy, y=np.abs(fft_results_denoised), mode='lines'))\n",
    "\n",
    "# Customize the layout\n",
    "fig.update_layout(height=600, width=1000,\n",
    "    # title='Fourier Transform of Noisy Audio File',\n",
    "    xaxis_title='Frequency (Hz)',\n",
    "    yaxis_title='Magnitude',\n",
    "    xaxis_range=[0, sample_rate/2],  # Display only positive frequencies\n",
    "    yaxis_range=[0, 1.5e6]  # Display only positive frequencies\n",
    ")\n",
    "\n",
    "# Show the plot\n",
    "fig.show()"
   ]
  },
  {
   "cell_type": "code",
   "execution_count": null,
   "id": "66dff247-945e-4ae5-9c9d-32e5b35cbb78",
   "metadata": {},
   "outputs": [],
   "source": [
    "denoised_signal = np.real(ifft(fft_results_denoised))\n",
    "denoised_signal = denoised_signal.astype(np.int16)"
   ]
  },
  {
   "cell_type": "code",
   "execution_count": null,
   "id": "75f50f70-03fa-4038-9bb1-f3d856cd4e65",
   "metadata": {},
   "outputs": [],
   "source": [
    "# Create time array\n",
    "time = np.arange(0, len(denoised_signal)) / sample_rate\n",
    "\n",
    "# Create the plot\n",
    "fig = go.Figure()\n",
    "fig.add_trace(go.Scatter(x=time, y=denoised_signal, mode='lines'))\n",
    "\n",
    "# Update layout\n",
    "fig.update_layout(height=600, width=1800,\n",
    "    # title='Denoised Audio Waveform',\n",
    "    xaxis_title='Time (seconds)',\n",
    "    yaxis_title='Amplitude'\n",
    ")\n",
    "\n",
    "# Show the plot\n",
    "fig.show()"
   ]
  },
  {
   "cell_type": "code",
   "execution_count": null,
   "id": "e593b35a-9120-4eab-9ae1-3602ebd2611b",
   "metadata": {
    "scrolled": true
   },
   "outputs": [],
   "source": [
    "# Create a temporary WAV file\n",
    "sf.write('data/audio/temp_denoised.wav', denoised_signal, sample_rate)\n",
    "\n",
    "# Play the sound\n",
    "ipd.display(ipd.Audio('data/audio/temp_denoised.wav'))"
   ]
  },
  {
   "cell_type": "markdown",
   "id": "d5416d4b-5457-45ba-accc-3194a89a0d0f",
   "metadata": {},
   "source": [
    "# Loss"
   ]
  },
  {
   "cell_type": "code",
   "execution_count": null,
   "id": "f26d065c-76e8-43b3-b793-28a795da7636",
   "metadata": {},
   "outputs": [],
   "source": [
    "print('MAE: w(t):', abs(audio_data - audio_data).mean())\n",
    "print('MAE: w~(t):', abs(audio_data - noisy_audio).mean())\n",
    "print('MAE: w^(t):', abs(audio_data - denoised_signal).mean())"
   ]
  },
  {
   "cell_type": "code",
   "execution_count": null,
   "id": "cbfc489f-8567-477b-adb3-819e758a4479",
   "metadata": {},
   "outputs": [],
   "source": [
    "print('MSE: w(t):', ((audio_data - audio_data) ** 2).mean())\n",
    "print('MSE: w~(t):', ((audio_data - noisy_audio) ** 2).mean())\n",
    "print('MSE: w^(t):', ((audio_data - denoised_signal) ** 2).mean())"
   ]
  },
  {
   "cell_type": "code",
   "execution_count": null,
   "id": "a9f319ba-c405-49f9-80ef-4646617f12b6",
   "metadata": {},
   "outputs": [],
   "source": [
    "print('CS: w(t):', audio_similarity(1. * audio_data, 1. * audio_data))\n",
    "print('CS: w~(t):', audio_similarity(1. * audio_data, 1. * noisy_audio))\n",
    "print('CS: w^(t):', audio_similarity(1. * audio_data, 1. * denoised_signal))"
   ]
  },
  {
   "cell_type": "code",
   "execution_count": null,
   "id": "44ac44f7-5a0b-4d5e-8310-9e2de7e7735b",
   "metadata": {},
   "outputs": [],
   "source": []
  }
 ],
 "metadata": {
  "kernelspec": {
   "display_name": "Python [conda env:.conda-Pycharm]",
   "language": "python",
   "name": "conda-env-.conda-Pycharm-py"
  },
  "language_info": {
   "codemirror_mode": {
    "name": "ipython",
    "version": 3
   },
   "file_extension": ".py",
   "mimetype": "text/x-python",
   "name": "python",
   "nbconvert_exporter": "python",
   "pygments_lexer": "ipython3",
   "version": "3.9.18"
  }
 },
 "nbformat": 4,
 "nbformat_minor": 5
}
