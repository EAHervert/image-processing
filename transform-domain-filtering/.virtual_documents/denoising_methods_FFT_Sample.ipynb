import plotly.express as px
import plotly.graph_objects as go
from plotly.subplots import make_subplots

import cv2
import scipy.io
import numpy as np
from skimage.metrics import structural_similarity as ssim
from skimage.metrics import peak_signal_noise_ratio as psnr
import os



def color_to_gray(image, index):
    out = []
    for i in range(3):
        if i == index:
            out.append(image[:, :, i])
        else:
            out.append(np.zeros_like(image[:, :, i]))
    out = np.array(out)
    out = out.transpose((1, 2, 0))
    return out


dataset = 'SIDD'
method = 'FFT'


# get current directory
path = os.getcwd()
 
# prints parent directory
par_path = os.path.abspath(os.path.join(path, os.pardir))

# .mat files
if dataset == 'SIDD':
    val_noisy = par_path + '/data/sidd/validation/val_noisy.mat'  # Noisy
    val_gt = par_path + '/data/sidd/validation/val_gt.mat'  # GT
    tag_noisy = 'ValidationNoisyBlocksSrgb'
    tag_gt = 'ValidationGtBlocksSrgb'
elif dataset == 'DIV2K_GSN_10':
    val_noisy = par_path + '/data/div2k_medium_gsn_10/validation/val_noisy.mat'  # Noisy
    val_gt = par_path + '/data/div2k_medium_gsn_10/validation/val_gt.mat'  # GT
    tag_noisy = 'val_ng'
    tag_gt = 'val_gt'
elif dataset == 'DIV2K_SNP_10':
    val_noisy = par_path + '/data/div2k_medium_snp_10/validation/val_noisy.mat'  # Noisy
    val_gt = par_path + '/data/div2k_medium_snp_10/validation/val_gt.mat'  # GT
    tag_noisy = 'val_ng'
    tag_gt = 'val_gt'

# Load .mat files
val_noisy_mat = np.array(scipy.io.loadmat(val_noisy)[tag_noisy])
val_gt_mat = np.array(scipy.io.loadmat(val_gt)[tag_gt])


# Sample Images
image_samples = [1, 10, 17, 23]
image_crops = [2, 4, 7, 11]
samples_noisy = np.array([[val_noisy_mat[i, j] for j in image_crops] for i in image_samples])
samples_gt = np.array([[val_gt_mat[i, j] for j in image_crops] for i in image_samples])


# Create subplot figure with 2 rows and 2 columns
fig = make_subplots(rows=4, cols=8, subplot_titles=(
    "Noisy 01", "GT 01", "Noisy 02", "GT 02", "Noisy 03", "GT 03", "Noisy 04", "GT 04", 
    "Noisy 05", "GT 05", "Noisy 06", "GT 06", "Noisy 07", "GT 07", "Noisy 08", "GT 08",
    "Noisy 09", "GT 09", "Noisy 10", "GT 10", "Noisy 11", "GT 11", "Noisy 12", "GT 12",
    "Noisy 13", "GT 13", "Noisy 14", "GT 14", "Noisy 15", "GT 15", "Noisy 16", "GT 16",
))

# Add images to the subplots
for i in range(4):
    fig.add_trace(go.Image(z=samples_noisy[i][0]), row=i + 1, col=1)  # Noisy Image
    fig.add_trace(go.Image(z=samples_gt[i][0]), row=i + 1, col=2)  # Ground Truth
    
    fig.add_trace(go.Image(z=samples_noisy[i][1]), row=i + 1, col=3)  # Noisy Image
    fig.add_trace(go.Image(z=samples_gt[i][1]), row=i + 1, col=4)  # Ground Truth
    
    fig.add_trace(go.Image(z=samples_noisy[i][2]), row=i + 1, col=5)  # Noisy Image
    fig.add_trace(go.Image(z=samples_gt[i][2]), row=i + 1, col=6)  # Ground Truth
    
    fig.add_trace(go.Image(z=samples_noisy[i][3]), row=i + 1, col=7)  # Noisy Image
    fig.add_trace(go.Image(z=samples_gt[i][3]), row=i + 1, col=8)  # Ground Truth

# Remove axes for all subplots
fig.update_xaxes(showticklabels=False, showgrid=False, zeroline=False)
fig.update_yaxes(showticklabels=False, showgrid=False, zeroline=False)

fig.update_layout(height=1000, 
                  width=1200, 
                  title_text="Noisy and Ground Truth Images",
                  margin=dict(l=20, r=20, t=80, b=20),  # Reduce margins
)
fig.show()


sample_noisy = samples_noisy[0, 3]
sample_gt = samples_gt[0, 3]


# Assuming 'image' is your loaded RGB image
fig = make_subplots(rows=1, cols=4, subplot_titles=("Original Image", "Red Channel", "Green Channel", "Blue Channel"))

# Original Image
fig.add_trace(go.Image(z=sample_noisy), row=1, col=1)

# Red Channel
fig.add_trace(go.Image(z=color_to_gray(sample_noisy, 0)), row=1, col=2)

# Green Channel
fig.add_trace(go.Image(z=color_to_gray(sample_noisy, 1)), row=1, col=3)

# Blue Channel
fig.add_trace(go.Image(z=color_to_gray(sample_noisy, 2)), row=1, col=4)

fig.update_layout(height=400, width=1600, title_text="Original Noisy Image and Color Channels")
fig.show()


# Assuming 'image' is your loaded RGB image
fig = make_subplots(rows=1, cols=4, subplot_titles=("Original Image", "Red Channel", "Green Channel", "Blue Channel"))

# Original Image
fig.add_trace(go.Image(z=sample_gt), row=1, col=1)

# Red Channel
fig.add_trace(go.Image(z=color_to_gray(sample_gt, 0)), row=1, col=2)

# Green Channel
fig.add_trace(go.Image(z=color_to_gray(sample_gt, 1)), row=1, col=3)

# Blue Channel
fig.add_trace(go.Image(z=color_to_gray(sample_gt, 2)), row=1, col=4)

fig.update_layout(height=400, width=1600, title_text="Original GT Image and Color Channels")
fig.show()





sample_noisy_in = sample_noisy.transpose((2, 0, 1))
sample_gt_in = sample_gt.transpose((2, 0, 1))

f_transform_channels_noisy = [np.fft.fft2(channel) for channel in sample_noisy_in]
f_transform_channels_gt = [np.fft.fft2(channel) for channel in sample_gt_in]



f_transform_shifted_channels_noisy = [np.fft.fftshift(f_transform) for f_transform in f_transform_channels_noisy]
f_transform_shifted_channels_gt = [np.fft.fftshift(f_transform) for f_transform in f_transform_channels_gt]



magnitude_spectra_noisy = [20 * np.log(np.abs(f_transform_shifted) + 1e-10) for f_transform_shifted in f_transform_shifted_channels_noisy]
magnitude_spectra_gt = [20 * np.log(np.abs(f_transform_shifted) + 1e-10) for f_transform_shifted in f_transform_shifted_channels_gt]



fft_noisy = np.array(magnitude_spectra_noisy)
fft_gt = np.array(magnitude_spectra_gt)


# Assuming 'image' is your loaded RGB image
fig = make_subplots(rows=1, cols=4, subplot_titles=("FFT Noisy Image", "FFT Red Channel", "FFT Green Channel", "FFT Blue Channel"))

# Original Image
fig.add_trace(go.Image(z=sample_noisy), row=1, col=1)

# Red Channel
fig.add_trace(go.Heatmap(z=fft_noisy[0, :, :], colorscale='gray', showscale=False), row=1, col=2)

# Green Channel
fig.add_trace(go.Heatmap(z=fft_noisy[1, :, :], colorscale='gray', showscale=False), row=1, col=3)

# Blue Channel
fig.add_trace(go.Heatmap(z=fft_noisy[2, :, :], colorscale='gray', showscale=False), row=1, col=4)

fig.update_layout(height=400, width=1200, title_text="FFT Noisy Image and Color Channels")
fig.update_xaxes(showticklabels=False, showgrid=False, zeroline=False)
fig.update_yaxes(showticklabels=False, showgrid=False, zeroline=False)
fig.update_xaxes(scaleanchor="y", scaleratio=1)
fig.update_yaxes(scaleanchor="x", scaleratio=1)

fig.show()


# Assuming 'image' is your loaded RGB image
fig = make_subplots(rows=1, cols=4, subplot_titles=("FFT GT Image", "FFT Red Channel", "FFT Green Channel", "FFT Blue Channel"))

# Original Image
fig.add_trace(go.Image(z=sample_gt), row=1, col=1)

# Red Channel
fig.add_trace(go.Heatmap(z=fft_gt[0, :, :], colorscale='gray', showscale=False), row=1, col=2)

# Green Channel
fig.add_trace(go.Heatmap(z=fft_gt[1, :, :], colorscale='gray', showscale=False), row=1, col=3)

# Blue Channel
fig.add_trace(go.Heatmap(z=fft_gt[2, :, :], colorscale='gray', showscale=False), row=1, col=4)

fig.update_layout(height=400, width=1200, title_text="FFT GT Image and Color Channels")
fig.update_xaxes(showticklabels=False, showgrid=False, zeroline=False)
fig.update_yaxes(showticklabels=False, showgrid=False, zeroline=False)
fig.update_xaxes(scaleanchor="y", scaleratio=1)
fig.update_yaxes(scaleanchor="x", scaleratio=1)

fig.show()


channels = [color_to_gray(sample_noisy, 0), color_to_gray(sample_noisy, 1), color_to_gray(sample_noisy, 2)]


fig = make_subplots(rows=2, cols=4, 
                    subplot_titles=("Noisy Image", "Red Channel", "Green Channel", "Blue Channel",
                                    "", "Red FFT Spectrum", "Green FFT Spectrum", "Blue FFT Spectrum"))

# Original Image
fig.add_trace(go.Image(z=sample_noisy), row=1, col=1)

# Color Channels and Magnitude Spectra
for i, (channel, spectrum) in enumerate(zip(channels, fft_noisy), start=2):
    # Color Channel
    fig.add_trace(go.Image(z=channel), row=1, col=i)
    
    # Magnitude Spectrum
    fig.add_trace(go.Heatmap(z=spectrum, colorscale='gray', showscale=False), row=2, col=i)

fig.update_layout(
    height=850, 
    width=1350, 
)

for i in fig['layout']['annotations']:
    i['font'] = dict(size=10)
    
fig.update_xaxes(showticklabels=False, showgrid=False, zeroline=False)
fig.update_yaxes(showticklabels=False, showgrid=False, zeroline=False)
fig.update_xaxes(scaleanchor="y", scaleratio=1)
fig.update_yaxes(scaleanchor="x", scaleratio=1)
fig.show()


from PIL import Image

out = (fft_noisy[0] - fft_noisy[0].min()) / (fft_noisy[0].max()- fft_noisy[0].min())
# Convert the NumPy array to a PIL Image object
img = Image.fromarray(out, 'L')

# Save the image
img.save("mag_1.png")


out = (fft_noisy[2] - fft_noisy[2].min()) / (fft_noisy[2].max()- fft_noisy[2].min())

cv2.imwrite('mag_3.png', np.round(out * 255))



def mask_ellipse(a, b):
    mask = np.zeros((256, 256))
    x, y = np.ogrid[:256, :256]
    mask_area = ((x - 127) / a) ** 2 + ((y - 127) / b) ** 2 <= 1
    mask[mask_area] = 1

    return mask

def mask_diamond(a, b):
    mask = np.zeros((256, 256))
    x, y = np.ogrid[:256, :256]
    mask_area = abs((x - 127) / a) + abs((y - 127) / b) <= 1
    mask[mask_area] = 1

    return mask

def mask_star(a, b):
    mask = np.zeros((256, 256))
    x, y = np.ogrid[:256, :256]
    mask_area = abs((x - 127) / a) ** 0.5 + abs((y - 127) / b) ** 0.5 <= 1
    mask[mask_area] = 1

    return mask



A = 50
B = 40


sample_ellipse = mask_ellipse(14, 2)
sample_diamond = mask_diamond(15, 3)
sample_star = mask_star(17, 11)


fig = make_subplots(rows=1, cols=3, 
                    subplot_titles=("Ellipse", "Diamond", "Star"))

fig.add_trace(go.Heatmap(z=sample_ellipse, colorscale='gray', showscale=False), row=1, col=1)
fig.add_trace(go.Heatmap(z=sample_diamond, colorscale='gray', showscale=False), row=1, col=2)
fig.add_trace(go.Heatmap(z=sample_star, colorscale='gray', showscale=False), row=1, col=3)

fig.update_layout(
    height=500, 
    width=1500, 
)

fig.update_xaxes(showticklabels=False, showgrid=False, zeroline=False)
fig.update_yaxes(showticklabels=False, showgrid=False, zeroline=False)

fig.show()


cv2.imwrite('sample_ellipse.png', sample_ellipse * 255)


f_transform_shifted_channels_noisy_ellipse = [f_transform * sample_ellipse for f_transform in f_transform_shifted_channels_noisy]
f_transform_shifted_channels_noisy_diamind = [f_transform * sample_diamond for f_transform in f_transform_shifted_channels_noisy]
f_transform_shifted_channels_noisy_star = [f_transform * sample_star for f_transform in f_transform_shifted_channels_noisy]



magnitude_spectra_noisy_ellipse = [20 * np.log(np.abs(f_transform_shifted) + 1e-10) for f_transform_shifted in f_transform_shifted_channels_noisy_ellipse]
magnitude_spectra_noisy_diamond = [20 * np.log(np.abs(f_transform_shifted) + 1e-10) for f_transform_shifted in f_transform_shifted_channels_noisy_diamind]
magnitude_spectra_noisy_star = [20 * np.log(np.abs(f_transform_shifted) + 1e-10) for f_transform_shifted in f_transform_shifted_channels_noisy_star]



f_ishift_channels_ellipse = [np.fft.ifftshift(f_transform_shifted) for f_transform_shifted in f_transform_shifted_channels_noisy_ellipse]
f_ishift_channels_diamond = [np.fft.ifftshift(f_transform_shifted) for f_transform_shifted in f_transform_shifted_channels_noisy_diamind]
f_ishift_channels_star = [np.fft.ifftshift(f_transform_shifted) for f_transform_shifted in f_transform_shifted_channels_noisy_star]

complex_img_back_channels_ellipse = [np.fft.ifft2(f_ishift) for f_ishift in f_ishift_channels_ellipse]
complex_img_back_channels_diamond = [np.fft.ifft2(f_ishift) for f_ishift in f_ishift_channels_diamond]
complex_img_back_channels_star = [np.fft.ifft2(f_ishift) for f_ishift in f_ishift_channels_star]

img_back_channels_ellipse = [np.abs(img_back).astype(np.uint8) for img_back in complex_img_back_channels_ellipse]
img_back_channels_diamond = [np.abs(img_back).astype(np.uint8) for img_back in complex_img_back_channels_diamond]
img_back_channels_star = [np.abs(img_back).astype(np.uint8) for img_back in complex_img_back_channels_star]

img_back_ellipse = cv2.merge(img_back_channels_ellipse)
img_back_diamond = cv2.merge(img_back_channels_diamond)
img_back_star = cv2.merge(img_back_channels_star)



# Assuming 'image' is your loaded RGB image
fig = make_subplots(rows=3, cols=4, subplot_titles=(
    "Ellipse Mask FFT Red Channel", "Ellipse Mask FFT Green Channel", "Ellipse Mask FFT Blue Channel", "Ellipse Mask Denoised Image",
    "Diamond Mask FFT Red Channel", "Diamond Mask FFT Green Channel", "Diamond Mask FFT Blue Channel", "Diamond Mask Denoised Image",
    "Star Mask FFT Red Channel", "Star Mask FFT Green Channel", "Star Mask FFT Blue Channel", "Star Mask Denoised Image"))

# Original Image
fig.add_trace(go.Image(z=img_back_ellipse), row=1, col=4)
fig.add_trace(go.Image(z=img_back_diamond), row=2, col=4)
fig.add_trace(go.Image(z=img_back_star), row=3, col=4)

# Red Channel
fig.add_trace(go.Heatmap(z=magnitude_spectra_noisy_ellipse[0], colorscale='gray', showscale=False), row=1, col=1)
fig.add_trace(go.Heatmap(z=magnitude_spectra_noisy_diamond[0], colorscale='gray', showscale=False), row=2, col=1)
fig.add_trace(go.Heatmap(z=magnitude_spectra_noisy_star[0], colorscale='gray', showscale=False), row=3, col=1)

# Green Channel
fig.add_trace(go.Heatmap(z=magnitude_spectra_noisy_ellipse[1], colorscale='gray', showscale=False), row=1, col=2)
fig.add_trace(go.Heatmap(z=magnitude_spectra_noisy_diamond[1], colorscale='gray', showscale=False), row=2, col=2)
fig.add_trace(go.Heatmap(z=magnitude_spectra_noisy_star[1], colorscale='gray', showscale=False), row=3, col=2)

# Blue Channel
fig.add_trace(go.Heatmap(z=magnitude_spectra_noisy_ellipse[2], colorscale='gray', showscale=False), row=1, col=3)
fig.add_trace(go.Heatmap(z=magnitude_spectra_noisy_diamond[2], colorscale='gray', showscale=False), row=2, col=3)
fig.add_trace(go.Heatmap(z=magnitude_spectra_noisy_star[2], colorscale='gray', showscale=False), row=3, col=3)

fig.update_layout(height=1200, width=1200, title_text="FFT GT Image and Color Channels")
fig.update_xaxes(showticklabels=False, showgrid=False, zeroline=False)
fig.update_yaxes(showticklabels=False, showgrid=False, zeroline=False)
fig.update_xaxes(scaleanchor="y", scaleratio=1)
fig.update_yaxes(scaleanchor="x", scaleratio=1)

fig.show()


fig = make_subplots(rows=1, cols=3, 
                    subplot_titles=("Ellipse Mask Denoising", "Diamond Mask Denoising", "Star Mask Denoising"))

fig.add_trace(go.Image(z=img_back_ellipse), row=1, col=1)
fig.add_trace(go.Image(z=img_back_diamond), row=1, col=2)
fig.add_trace(go.Image(z=img_back_star), row=1, col=3)

fig.update_layout(
    height=500, 
    width=1500, 
)

fig.update_xaxes(showticklabels=False, showgrid=False, zeroline=False)
fig.update_yaxes(showticklabels=False, showgrid=False, zeroline=False)

fig.show()


# Convert the NumPy array to a PIL Image object
img = Image.fromarray(img_back_star)

# Save the image
img.save("den_star.png")


print(np.square(sample_gt - sample_gt).mean())
print(np.square(sample_noisy - sample_gt).mean())
print(np.square(img_back_ellipse - sample_gt).mean())
print(np.square(img_back_diamond - sample_gt).mean())
print(np.square(img_back_star - sample_gt).mean())


print(ssim(sample_gt, sample_gt, multichannel=True))
print(ssim(sample_noisy, sample_gt, multichannel=True))
print(ssim(img_back_ellipse, sample_gt, multichannel=True))
print(ssim(img_back_diamond, sample_gt, multichannel=True))
print(ssim(img_back_star, sample_gt, multichannel=True))


print(psnr(sample_gt, sample_gt))
print(psnr(sample_noisy, sample_gt))
print(psnr(img_back_ellipse, sample_gt))
print(psnr(img_back_diamond, sample_gt))
print(psnr(img_back_star, sample_gt))


f_transform_shifted_channels_noisy_ellipse = [f_transform * sample_ellipse for f_transform in f_transform_shifted_channels_noisy]
f_transform_shifted_channels_noisy_diamind = [f_transform * sample_diamond for f_transform in f_transform_shifted_channels_noisy]
f_transform_shifted_channels_noisy_star = [f_transform * sample_star for f_transform in f_transform_shifted_channels_noisy]



data1 = magnitude_spectra_noisy[0].flatten()
data2 = magnitude_spectra_noisy[1].flatten()
data3 = magnitude_spectra_noisy[2].flatten()

# Create the figure
fig = go.Figure()

# Add three histograms
fig.add_trace(go.Histogram(x=data1, name='Dataset 1', opacity=0.75))
fig.add_trace(go.Histogram(x=data2, name='Dataset 2', opacity=0.75))
fig.add_trace(go.Histogram(x=data3, name='Dataset 3', opacity=0.75))

# Update layout
fig.update_layout(
    title='Three Histograms in One Plot',
    xaxis_title='Value',
    yaxis_title='Count',
    barmode='overlay'  # This will overlay the histograms
)

# Show the plot
fig.show()


data1_gt = magnitude_spectra_gt[0].flatten()
data2_gt = magnitude_spectra_gt[1].flatten()
data3_gt = magnitude_spectra_gt[2].flatten()

# Create the figure
fig = go.Figure()

# Add three histograms
fig.add_trace(go.Histogram(x=data1_gt, name='Dataset 1', opacity=0.75))
fig.add_trace(go.Histogram(x=data2_gt, name='Dataset 2', opacity=0.75))
fig.add_trace(go.Histogram(x=data3_gt, name='Dataset 3', opacity=0.75))

# Update layout
fig.update_layout(
    title='Three Histograms in One Plot',
    xaxis_title='Value',
    yaxis_title='Count',
    barmode='overlay'  # This will overlay the histograms
)

# Show the plot
fig.show()


# Create the figure
fig = go.Figure()

# Add three histograms
fig.add_trace(go.Histogram(x=data1, name='Dataset 1 Noisy', opacity=0.75))
fig.add_trace(go.Histogram(x=data1_gt, name='Dataset 1 GT', opacity=0.75))

# Update layout
fig.update_layout(
    title='Two Histograms in One Plot',
    xaxis_title='Value',
    yaxis_title='Count',
    barmode='overlay'  # This will overlay the histograms
)

# Show the plot
fig.show()


# Create the figure
fig = go.Figure()

# Add three histograms
fig.add_trace(go.Histogram(x=data2, name='Dataset 2 Noisy', opacity=0.75))
fig.add_trace(go.Histogram(x=data2_gt, name='Dataset 2 GT', opacity=0.75))

# Update layout
fig.update_layout(
    title='Two Histograms in One Plot',
    xaxis_title='Value',
    yaxis_title='Count',
    barmode='overlay'  # This will overlay the histograms
)

# Show the plot
fig.show()


# Create the figure
fig = go.Figure()

# Add three histograms
fig.add_trace(go.Histogram(x=data3, name='Dataset 3 Noisy', opacity=0.75))
fig.add_trace(go.Histogram(x=data3_gt, name='Dataset 3 GT', opacity=0.75))

# Update layout
fig.update_layout(
    title='Two Histograms in One Plot',
    xaxis_title='Value',
    yaxis_title='Count',
    barmode='overlay'  # This will overlay the histograms
)

# Show the plot
fig.show()



