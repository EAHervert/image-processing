{
 "cells": [
  {
   "cell_type": "code",
   "execution_count": null,
   "id": "10223d5d-eb94-49c1-bfac-c0ba28dbbef6",
   "metadata": {},
   "outputs": [],
   "source": [
    "import plotly.express as px\n",
    "import plotly.graph_objects as go\n",
    "from plotly.subplots import make_subplots\n",
    "\n",
    "import cv2\n",
    "import scipy.io\n",
    "import numpy as np\n",
    "from skimage.metrics import structural_similarity as ssim\n",
    "from skimage.metrics import peak_signal_noise_ratio as psnr\n",
    "import os\n"
   ]
  },
  {
   "cell_type": "code",
   "execution_count": null,
   "id": "bbb8faab-a2f1-4703-be0e-637a447a6c16",
   "metadata": {},
   "outputs": [],
   "source": [
    "def color_to_gray(image, index):\n",
    "    out = []\n",
    "    for i in range(3):\n",
    "        if i == index:\n",
    "            out.append(image[:, :, i])\n",
    "        else:\n",
    "            out.append(np.zeros_like(image[:, :, i]))\n",
    "    out = np.array(out)\n",
    "    out = out.transpose((1, 2, 0))\n",
    "    return out"
   ]
  },
  {
   "cell_type": "code",
   "execution_count": null,
   "id": "2938e369-6763-4cd5-9579-93436b7a7399",
   "metadata": {},
   "outputs": [],
   "source": [
    "dataset = 'SIDD'\n",
    "method = 'FFT'"
   ]
  },
  {
   "cell_type": "code",
   "execution_count": null,
   "id": "47e4db1f-0665-4642-ac7b-e8769701c188",
   "metadata": {},
   "outputs": [],
   "source": [
    "# get current directory\n",
    "path = os.getcwd()\n",
    " \n",
    "# prints parent directory\n",
    "par_path = os.path.abspath(os.path.join(path, os.pardir))\n",
    "\n",
    "# .mat files\n",
    "if dataset == 'SIDD':\n",
    "    val_noisy = par_path + '/data/sidd/validation/val_noisy.mat'  # Noisy\n",
    "    val_gt = par_path + '/data/sidd/validation/val_gt.mat'  # GT\n",
    "    tag_noisy = 'ValidationNoisyBlocksSrgb'\n",
    "    tag_gt = 'ValidationGtBlocksSrgb'\n",
    "elif dataset == 'DIV2K_GSN_10':\n",
    "    val_noisy = par_path + '/data/div2k_medium_gsn_10/validation/val_noisy.mat'  # Noisy\n",
    "    val_gt = par_path + '/data/div2k_medium_gsn_10/validation/val_gt.mat'  # GT\n",
    "    tag_noisy = 'val_ng'\n",
    "    tag_gt = 'val_gt'\n",
    "elif dataset == 'DIV2K_SNP_10':\n",
    "    val_noisy = par_path + '/data/div2k_medium_snp_10/validation/val_noisy.mat'  # Noisy\n",
    "    val_gt = par_path + '/data/div2k_medium_snp_10/validation/val_gt.mat'  # GT\n",
    "    tag_noisy = 'val_ng'\n",
    "    tag_gt = 'val_gt'\n",
    "\n",
    "# Load .mat files\n",
    "val_noisy_mat = np.array(scipy.io.loadmat(val_noisy)[tag_noisy])\n",
    "val_gt_mat = np.array(scipy.io.loadmat(val_gt)[tag_gt])"
   ]
  },
  {
   "cell_type": "code",
   "execution_count": null,
   "id": "e8bd6f9a-a468-44ba-a16e-9bdb39c08289",
   "metadata": {},
   "outputs": [],
   "source": [
    "# Sample Images\n",
    "image_samples = [1, 10, 17, 23]\n",
    "image_crops = [2, 4, 7, 11]\n",
    "samples_noisy = np.array([[val_noisy_mat[i, j] for j in image_crops] for i in image_samples])\n",
    "samples_gt = np.array([[val_gt_mat[i, j] for j in image_crops] for i in image_samples])"
   ]
  },
  {
   "cell_type": "code",
   "execution_count": null,
   "id": "4ecac5d7-5307-4d5a-af84-73fd77f5c8c9",
   "metadata": {},
   "outputs": [],
   "source": [
    "# Create subplot figure with 2 rows and 2 columns\n",
    "fig = make_subplots(rows=4, cols=8, subplot_titles=(\n",
    "    \"Noisy 01\", \"GT 01\", \"Noisy 02\", \"GT 02\", \"Noisy 03\", \"GT 03\", \"Noisy 04\", \"GT 04\", \n",
    "    \"Noisy 05\", \"GT 05\", \"Noisy 06\", \"GT 06\", \"Noisy 07\", \"GT 07\", \"Noisy 08\", \"GT 08\",\n",
    "    \"Noisy 09\", \"GT 09\", \"Noisy 10\", \"GT 10\", \"Noisy 11\", \"GT 11\", \"Noisy 12\", \"GT 12\",\n",
    "    \"Noisy 13\", \"GT 13\", \"Noisy 14\", \"GT 14\", \"Noisy 15\", \"GT 15\", \"Noisy 16\", \"GT 16\",\n",
    "))\n",
    "\n",
    "# Add images to the subplots\n",
    "for i in range(4):\n",
    "    fig.add_trace(go.Image(z=samples_noisy[i][0]), row=i + 1, col=1)  # Noisy Image\n",
    "    fig.add_trace(go.Image(z=samples_gt[i][0]), row=i + 1, col=2)  # Ground Truth\n",
    "    \n",
    "    fig.add_trace(go.Image(z=samples_noisy[i][1]), row=i + 1, col=3)  # Noisy Image\n",
    "    fig.add_trace(go.Image(z=samples_gt[i][1]), row=i + 1, col=4)  # Ground Truth\n",
    "    \n",
    "    fig.add_trace(go.Image(z=samples_noisy[i][2]), row=i + 1, col=5)  # Noisy Image\n",
    "    fig.add_trace(go.Image(z=samples_gt[i][2]), row=i + 1, col=6)  # Ground Truth\n",
    "    \n",
    "    fig.add_trace(go.Image(z=samples_noisy[i][3]), row=i + 1, col=7)  # Noisy Image\n",
    "    fig.add_trace(go.Image(z=samples_gt[i][3]), row=i + 1, col=8)  # Ground Truth\n",
    "\n",
    "# Remove axes for all subplots\n",
    "fig.update_xaxes(showticklabels=False, showgrid=False, zeroline=False)\n",
    "fig.update_yaxes(showticklabels=False, showgrid=False, zeroline=False)\n",
    "\n",
    "fig.update_layout(height=1000, \n",
    "                  width=1200, \n",
    "                  title_text=\"Noisy and Ground Truth Images\",\n",
    "                  margin=dict(l=20, r=20, t=80, b=20),  # Reduce margins\n",
    ")\n",
    "fig.show()"
   ]
  },
  {
   "cell_type": "code",
   "execution_count": null,
   "id": "0c590b97-9bb3-4225-82d7-bbfaa99c1591",
   "metadata": {},
   "outputs": [],
   "source": [
    "sample_noisy = samples_noisy[0, 3]\n",
    "sample_gt = samples_gt[0, 3]"
   ]
  },
  {
   "cell_type": "code",
   "execution_count": null,
   "id": "5c90bc0d-abf1-4541-abdb-b6d09488f12a",
   "metadata": {},
   "outputs": [],
   "source": [
    "# Assuming 'image' is your loaded RGB image\n",
    "fig = make_subplots(rows=1, cols=4, subplot_titles=(\"Original Image\", \"Red Channel\", \"Green Channel\", \"Blue Channel\"))\n",
    "\n",
    "# Original Image\n",
    "fig.add_trace(go.Image(z=sample_noisy), row=1, col=1)\n",
    "\n",
    "# Red Channel\n",
    "fig.add_trace(go.Image(z=color_to_gray(sample_noisy, 0)), row=1, col=2)\n",
    "\n",
    "# Green Channel\n",
    "fig.add_trace(go.Image(z=color_to_gray(sample_noisy, 1)), row=1, col=3)\n",
    "\n",
    "# Blue Channel\n",
    "fig.add_trace(go.Image(z=color_to_gray(sample_noisy, 2)), row=1, col=4)\n",
    "\n",
    "fig.update_layout(height=400, width=1600, title_text=\"Original Noisy Image and Color Channels\")\n",
    "fig.show()"
   ]
  },
  {
   "cell_type": "code",
   "execution_count": null,
   "id": "0bca7202-1305-45a8-becc-d65af03361a6",
   "metadata": {},
   "outputs": [],
   "source": [
    "# Assuming 'image' is your loaded RGB image\n",
    "fig = make_subplots(rows=1, cols=4, subplot_titles=(\"Original Image\", \"Red Channel\", \"Green Channel\", \"Blue Channel\"))\n",
    "\n",
    "# Original Image\n",
    "fig.add_trace(go.Image(z=sample_gt), row=1, col=1)\n",
    "\n",
    "# Red Channel\n",
    "fig.add_trace(go.Image(z=color_to_gray(sample_gt, 0)), row=1, col=2)\n",
    "\n",
    "# Green Channel\n",
    "fig.add_trace(go.Image(z=color_to_gray(sample_gt, 1)), row=1, col=3)\n",
    "\n",
    "# Blue Channel\n",
    "fig.add_trace(go.Image(z=color_to_gray(sample_gt, 2)), row=1, col=4)\n",
    "\n",
    "fig.update_layout(height=400, width=1600, title_text=\"Original GT Image and Color Channels\")\n",
    "fig.show()"
   ]
  },
  {
   "cell_type": "markdown",
   "id": "b5ec3d29-1706-472e-aa98-faac764b687d",
   "metadata": {},
   "source": [
    "# Get FFT of the slices"
   ]
  },
  {
   "cell_type": "code",
   "execution_count": null,
   "id": "ed7efe94-71ed-4566-8943-ef67d2cd0ac6",
   "metadata": {},
   "outputs": [],
   "source": [
    "sample_noisy_in = sample_noisy.transpose((2, 0, 1))\n",
    "sample_gt_in = sample_gt.transpose((2, 0, 1))\n",
    "\n",
    "f_transform_channels_noisy = [np.fft.fft2(channel) for channel in sample_noisy_in]\n",
    "f_transform_channels_gt = [np.fft.fft2(channel) for channel in sample_gt_in]\n"
   ]
  },
  {
   "cell_type": "code",
   "execution_count": null,
   "id": "475351ca-48de-4967-a6eb-a6e599eff53c",
   "metadata": {},
   "outputs": [],
   "source": [
    "f_transform_shifted_channels_noisy = [np.fft.fftshift(f_transform) for f_transform in f_transform_channels_noisy]\n",
    "f_transform_shifted_channels_gt = [np.fft.fftshift(f_transform) for f_transform in f_transform_channels_gt]\n"
   ]
  },
  {
   "cell_type": "code",
   "execution_count": null,
   "id": "d5d56677-3141-413a-8ddf-7c063888d11b",
   "metadata": {},
   "outputs": [],
   "source": [
    "magnitude_spectra_noisy = [20 * np.log(np.abs(f_transform_shifted) + 1e-10) for f_transform_shifted in f_transform_shifted_channels_noisy]\n",
    "magnitude_spectra_gt = [20 * np.log(np.abs(f_transform_shifted) + 1e-10) for f_transform_shifted in f_transform_shifted_channels_gt]\n"
   ]
  },
  {
   "cell_type": "code",
   "execution_count": null,
   "id": "390e4048-3ef2-4308-a3ce-ebffdf6496a8",
   "metadata": {},
   "outputs": [],
   "source": [
    "fft_noisy = np.array(magnitude_spectra_noisy)\n",
    "fft_gt = np.array(magnitude_spectra_gt)"
   ]
  },
  {
   "cell_type": "code",
   "execution_count": null,
   "id": "b13e2c79-11b0-42d3-857a-e42713f8487e",
   "metadata": {},
   "outputs": [],
   "source": [
    "# Assuming 'image' is your loaded RGB image\n",
    "fig = make_subplots(rows=1, cols=4, subplot_titles=(\"FFT Noisy Image\", \"FFT Red Channel\", \"FFT Green Channel\", \"FFT Blue Channel\"))\n",
    "\n",
    "# Original Image\n",
    "fig.add_trace(go.Image(z=sample_noisy), row=1, col=1)\n",
    "\n",
    "# Red Channel\n",
    "fig.add_trace(go.Heatmap(z=fft_noisy[0, :, :], colorscale='gray', showscale=False), row=1, col=2)\n",
    "\n",
    "# Green Channel\n",
    "fig.add_trace(go.Heatmap(z=fft_noisy[1, :, :], colorscale='gray', showscale=False), row=1, col=3)\n",
    "\n",
    "# Blue Channel\n",
    "fig.add_trace(go.Heatmap(z=fft_noisy[2, :, :], colorscale='gray', showscale=False), row=1, col=4)\n",
    "\n",
    "fig.update_layout(height=400, width=1200, title_text=\"FFT Noisy Image and Color Channels\")\n",
    "fig.update_xaxes(showticklabels=False, showgrid=False, zeroline=False)\n",
    "fig.update_yaxes(showticklabels=False, showgrid=False, zeroline=False)\n",
    "fig.update_xaxes(scaleanchor=\"y\", scaleratio=1)\n",
    "fig.update_yaxes(scaleanchor=\"x\", scaleratio=1)\n",
    "\n",
    "fig.show()"
   ]
  },
  {
   "cell_type": "code",
   "execution_count": null,
   "id": "d5ffe229-748f-4b72-988d-66fc5c6e0d10",
   "metadata": {},
   "outputs": [],
   "source": [
    "# Assuming 'image' is your loaded RGB image\n",
    "fig = make_subplots(rows=1, cols=4, subplot_titles=(\"FFT GT Image\", \"FFT Red Channel\", \"FFT Green Channel\", \"FFT Blue Channel\"))\n",
    "\n",
    "# Original Image\n",
    "fig.add_trace(go.Image(z=sample_gt), row=1, col=1)\n",
    "\n",
    "# Red Channel\n",
    "fig.add_trace(go.Heatmap(z=fft_gt[0, :, :], colorscale='gray', showscale=False), row=1, col=2)\n",
    "\n",
    "# Green Channel\n",
    "fig.add_trace(go.Heatmap(z=fft_gt[1, :, :], colorscale='gray', showscale=False), row=1, col=3)\n",
    "\n",
    "# Blue Channel\n",
    "fig.add_trace(go.Heatmap(z=fft_gt[2, :, :], colorscale='gray', showscale=False), row=1, col=4)\n",
    "\n",
    "fig.update_layout(height=400, width=1200, title_text=\"FFT GT Image and Color Channels\")\n",
    "fig.update_xaxes(showticklabels=False, showgrid=False, zeroline=False)\n",
    "fig.update_yaxes(showticklabels=False, showgrid=False, zeroline=False)\n",
    "fig.update_xaxes(scaleanchor=\"y\", scaleratio=1)\n",
    "fig.update_yaxes(scaleanchor=\"x\", scaleratio=1)\n",
    "\n",
    "fig.show()"
   ]
  },
  {
   "cell_type": "code",
   "execution_count": null,
   "id": "d3da5735-899f-4c92-9160-866187c65c52",
   "metadata": {},
   "outputs": [],
   "source": [
    "channels = [color_to_gray(sample_noisy, 0), color_to_gray(sample_noisy, 1), color_to_gray(sample_noisy, 2)]"
   ]
  },
  {
   "cell_type": "code",
   "execution_count": null,
   "id": "a7085e54-3b82-46f0-be3b-044d24bbdb7e",
   "metadata": {},
   "outputs": [],
   "source": [
    "fig = make_subplots(rows=2, cols=4, \n",
    "                    subplot_titles=(\"Noisy Image\", \"Red Channel\", \"Green Channel\", \"Blue Channel\",\n",
    "                                    \"\", \"Red FFT Spectrum\", \"Green FFT Spectrum\", \"Blue FFT Spectrum\"))\n",
    "\n",
    "# Original Image\n",
    "fig.add_trace(go.Image(z=sample_noisy), row=1, col=1)\n",
    "\n",
    "# Color Channels and Magnitude Spectra\n",
    "for i, (channel, spectrum) in enumerate(zip(channels, fft_noisy), start=2):\n",
    "    # Color Channel\n",
    "    fig.add_trace(go.Image(z=channel), row=1, col=i)\n",
    "    \n",
    "    # Magnitude Spectrum\n",
    "    fig.add_trace(go.Heatmap(z=spectrum, colorscale='gray', showscale=False), row=2, col=i)\n",
    "\n",
    "fig.update_layout(\n",
    "    height=850, \n",
    "    width=1350, \n",
    ")\n",
    "\n",
    "for i in fig['layout']['annotations']:\n",
    "    i['font'] = dict(size=10)\n",
    "    \n",
    "fig.update_xaxes(showticklabels=False, showgrid=False, zeroline=False)\n",
    "fig.update_yaxes(showticklabels=False, showgrid=False, zeroline=False)\n",
    "fig.update_xaxes(scaleanchor=\"y\", scaleratio=1)\n",
    "fig.update_yaxes(scaleanchor=\"x\", scaleratio=1)\n",
    "fig.show()"
   ]
  },
  {
   "cell_type": "code",
   "execution_count": null,
   "id": "156b5429-ee6f-4f2f-a10c-698053c38b85",
   "metadata": {},
   "outputs": [],
   "source": [
    "from PIL import Image\n",
    "\n",
    "out = (fft_noisy[0] - fft_noisy[0].min()) / (fft_noisy[0].max()- fft_noisy[0].min())\n",
    "# Convert the NumPy array to a PIL Image object\n",
    "img = Image.fromarray(out, 'L')\n",
    "\n",
    "# Save the image\n",
    "img.save(\"mag_1.png\")"
   ]
  },
  {
   "cell_type": "code",
   "execution_count": null,
   "id": "3955ba8a-0532-46a4-bd16-d2107e38993e",
   "metadata": {},
   "outputs": [],
   "source": [
    "out = (fft_noisy[2] - fft_noisy[2].min()) / (fft_noisy[2].max()- fft_noisy[2].min())\n",
    "\n",
    "cv2.imwrite('mag_3.png', np.round(out * 255))\n"
   ]
  },
  {
   "cell_type": "code",
   "execution_count": null,
   "id": "5281498e-4b10-42f4-aa9f-1b39e5b236e7",
   "metadata": {},
   "outputs": [],
   "source": [
    "def mask_ellipse(a, b):\n",
    "    mask = np.zeros((256, 256))\n",
    "    x, y = np.ogrid[:256, :256]\n",
    "    mask_area = ((x - 127) / a) ** 2 + ((y - 127) / b) ** 2 <= 1\n",
    "    mask[mask_area] = 1\n",
    "\n",
    "    return mask\n",
    "\n",
    "def mask_diamond(a, b):\n",
    "    mask = np.zeros((256, 256))\n",
    "    x, y = np.ogrid[:256, :256]\n",
    "    mask_area = abs((x - 127) / a) + abs((y - 127) / b) <= 1\n",
    "    mask[mask_area] = 1\n",
    "\n",
    "    return mask\n",
    "\n",
    "def mask_star(a, b):\n",
    "    mask = np.zeros((256, 256))\n",
    "    x, y = np.ogrid[:256, :256]\n",
    "    mask_area = abs((x - 127) / a) ** 0.5 + abs((y - 127) / b) ** 0.5 <= 1\n",
    "    mask[mask_area] = 1\n",
    "\n",
    "    return mask\n"
   ]
  },
  {
   "cell_type": "code",
   "execution_count": null,
   "id": "895ec571-2e4c-4a3b-aa34-e653292bced0",
   "metadata": {},
   "outputs": [],
   "source": [
    "A = 50\n",
    "B = 40"
   ]
  },
  {
   "cell_type": "code",
   "execution_count": null,
   "id": "b81751c0-f9f8-4238-9921-753f8ca3b1ea",
   "metadata": {},
   "outputs": [],
   "source": [
    "sample_ellipse = mask_ellipse(14, 2)\n",
    "sample_diamond = mask_diamond(15, 3)\n",
    "sample_star = mask_star(17, 11)"
   ]
  },
  {
   "cell_type": "code",
   "execution_count": null,
   "id": "36dcc760-ff60-4faa-b06e-112a3a6b34c0",
   "metadata": {},
   "outputs": [],
   "source": [
    "fig = make_subplots(rows=1, cols=3, \n",
    "                    subplot_titles=(\"Ellipse\", \"Diamond\", \"Star\"))\n",
    "\n",
    "fig.add_trace(go.Heatmap(z=sample_ellipse, colorscale='gray', showscale=False), row=1, col=1)\n",
    "fig.add_trace(go.Heatmap(z=sample_diamond, colorscale='gray', showscale=False), row=1, col=2)\n",
    "fig.add_trace(go.Heatmap(z=sample_star, colorscale='gray', showscale=False), row=1, col=3)\n",
    "\n",
    "fig.update_layout(\n",
    "    height=500, \n",
    "    width=1500, \n",
    ")\n",
    "\n",
    "fig.update_xaxes(showticklabels=False, showgrid=False, zeroline=False)\n",
    "fig.update_yaxes(showticklabels=False, showgrid=False, zeroline=False)\n",
    "\n",
    "fig.show()"
   ]
  },
  {
   "cell_type": "code",
   "execution_count": null,
   "id": "da49869a-5dcb-4758-809d-9d5ce4abc016",
   "metadata": {},
   "outputs": [],
   "source": [
    "cv2.imwrite('sample_ellipse.png', sample_ellipse * 255)"
   ]
  },
  {
   "cell_type": "code",
   "execution_count": null,
   "id": "76f93080-ae67-434a-9df0-904e183a1bb3",
   "metadata": {},
   "outputs": [],
   "source": [
    "f_transform_shifted_channels_noisy_ellipse = [f_transform * sample_ellipse for f_transform in f_transform_shifted_channels_noisy]\n",
    "f_transform_shifted_channels_noisy_diamind = [f_transform * sample_diamond for f_transform in f_transform_shifted_channels_noisy]\n",
    "f_transform_shifted_channels_noisy_star = [f_transform * sample_star for f_transform in f_transform_shifted_channels_noisy]\n"
   ]
  },
  {
   "cell_type": "code",
   "execution_count": null,
   "id": "de6e675b-8441-4d41-85f6-30c8cf32fcc8",
   "metadata": {},
   "outputs": [],
   "source": [
    "magnitude_spectra_noisy_ellipse = [20 * np.log(np.abs(f_transform_shifted) + 1e-10) for f_transform_shifted in f_transform_shifted_channels_noisy_ellipse]\n",
    "magnitude_spectra_noisy_diamond = [20 * np.log(np.abs(f_transform_shifted) + 1e-10) for f_transform_shifted in f_transform_shifted_channels_noisy_diamind]\n",
    "magnitude_spectra_noisy_star = [20 * np.log(np.abs(f_transform_shifted) + 1e-10) for f_transform_shifted in f_transform_shifted_channels_noisy_star]\n"
   ]
  },
  {
   "cell_type": "code",
   "execution_count": null,
   "id": "aba5275c-bead-46ca-bfbe-061cee834ef2",
   "metadata": {},
   "outputs": [],
   "source": [
    "f_ishift_channels_ellipse = [np.fft.ifftshift(f_transform_shifted) for f_transform_shifted in f_transform_shifted_channels_noisy_ellipse]\n",
    "f_ishift_channels_diamond = [np.fft.ifftshift(f_transform_shifted) for f_transform_shifted in f_transform_shifted_channels_noisy_diamind]\n",
    "f_ishift_channels_star = [np.fft.ifftshift(f_transform_shifted) for f_transform_shifted in f_transform_shifted_channels_noisy_star]\n",
    "\n",
    "complex_img_back_channels_ellipse = [np.fft.ifft2(f_ishift) for f_ishift in f_ishift_channels_ellipse]\n",
    "complex_img_back_channels_diamond = [np.fft.ifft2(f_ishift) for f_ishift in f_ishift_channels_diamond]\n",
    "complex_img_back_channels_star = [np.fft.ifft2(f_ishift) for f_ishift in f_ishift_channels_star]\n",
    "\n",
    "img_back_channels_ellipse = [np.abs(img_back).astype(np.uint8) for img_back in complex_img_back_channels_ellipse]\n",
    "img_back_channels_diamond = [np.abs(img_back).astype(np.uint8) for img_back in complex_img_back_channels_diamond]\n",
    "img_back_channels_star = [np.abs(img_back).astype(np.uint8) for img_back in complex_img_back_channels_star]\n",
    "\n",
    "img_back_ellipse = cv2.merge(img_back_channels_ellipse)\n",
    "img_back_diamond = cv2.merge(img_back_channels_diamond)\n",
    "img_back_star = cv2.merge(img_back_channels_star)\n"
   ]
  },
  {
   "cell_type": "code",
   "execution_count": null,
   "id": "142bce98-2c51-4357-829a-1e53691a1cb5",
   "metadata": {},
   "outputs": [],
   "source": [
    "# Assuming 'image' is your loaded RGB image\n",
    "fig = make_subplots(rows=3, cols=4, subplot_titles=(\n",
    "    \"Ellipse Mask FFT Red Channel\", \"Ellipse Mask FFT Green Channel\", \"Ellipse Mask FFT Blue Channel\", \"Ellipse Mask Denoised Image\",\n",
    "    \"Diamond Mask FFT Red Channel\", \"Diamond Mask FFT Green Channel\", \"Diamond Mask FFT Blue Channel\", \"Diamond Mask Denoised Image\",\n",
    "    \"Star Mask FFT Red Channel\", \"Star Mask FFT Green Channel\", \"Star Mask FFT Blue Channel\", \"Star Mask Denoised Image\"))\n",
    "\n",
    "# Original Image\n",
    "fig.add_trace(go.Image(z=img_back_ellipse), row=1, col=4)\n",
    "fig.add_trace(go.Image(z=img_back_diamond), row=2, col=4)\n",
    "fig.add_trace(go.Image(z=img_back_star), row=3, col=4)\n",
    "\n",
    "# Red Channel\n",
    "fig.add_trace(go.Heatmap(z=magnitude_spectra_noisy_ellipse[0], colorscale='gray', showscale=False), row=1, col=1)\n",
    "fig.add_trace(go.Heatmap(z=magnitude_spectra_noisy_diamond[0], colorscale='gray', showscale=False), row=2, col=1)\n",
    "fig.add_trace(go.Heatmap(z=magnitude_spectra_noisy_star[0], colorscale='gray', showscale=False), row=3, col=1)\n",
    "\n",
    "# Green Channel\n",
    "fig.add_trace(go.Heatmap(z=magnitude_spectra_noisy_ellipse[1], colorscale='gray', showscale=False), row=1, col=2)\n",
    "fig.add_trace(go.Heatmap(z=magnitude_spectra_noisy_diamond[1], colorscale='gray', showscale=False), row=2, col=2)\n",
    "fig.add_trace(go.Heatmap(z=magnitude_spectra_noisy_star[1], colorscale='gray', showscale=False), row=3, col=2)\n",
    "\n",
    "# Blue Channel\n",
    "fig.add_trace(go.Heatmap(z=magnitude_spectra_noisy_ellipse[2], colorscale='gray', showscale=False), row=1, col=3)\n",
    "fig.add_trace(go.Heatmap(z=magnitude_spectra_noisy_diamond[2], colorscale='gray', showscale=False), row=2, col=3)\n",
    "fig.add_trace(go.Heatmap(z=magnitude_spectra_noisy_star[2], colorscale='gray', showscale=False), row=3, col=3)\n",
    "\n",
    "fig.update_layout(height=1200, width=1200, title_text=\"FFT GT Image and Color Channels\")\n",
    "fig.update_xaxes(showticklabels=False, showgrid=False, zeroline=False)\n",
    "fig.update_yaxes(showticklabels=False, showgrid=False, zeroline=False)\n",
    "fig.update_xaxes(scaleanchor=\"y\", scaleratio=1)\n",
    "fig.update_yaxes(scaleanchor=\"x\", scaleratio=1)\n",
    "\n",
    "fig.show()"
   ]
  },
  {
   "cell_type": "code",
   "execution_count": null,
   "id": "4bfddde9-6545-45e2-ad07-60f65eebca85",
   "metadata": {},
   "outputs": [],
   "source": [
    "fig = make_subplots(rows=1, cols=3, \n",
    "                    subplot_titles=(\"Ellipse Mask Denoising\", \"Diamond Mask Denoising\", \"Star Mask Denoising\"))\n",
    "\n",
    "fig.add_trace(go.Image(z=img_back_ellipse), row=1, col=1)\n",
    "fig.add_trace(go.Image(z=img_back_diamond), row=1, col=2)\n",
    "fig.add_trace(go.Image(z=img_back_star), row=1, col=3)\n",
    "\n",
    "fig.update_layout(\n",
    "    height=500, \n",
    "    width=1500, \n",
    ")\n",
    "\n",
    "fig.update_xaxes(showticklabels=False, showgrid=False, zeroline=False)\n",
    "fig.update_yaxes(showticklabels=False, showgrid=False, zeroline=False)\n",
    "\n",
    "fig.show()"
   ]
  },
  {
   "cell_type": "code",
   "execution_count": null,
   "id": "b892d3b0-505d-4802-ae2f-1a874874781e",
   "metadata": {},
   "outputs": [],
   "source": [
    "# Convert the NumPy array to a PIL Image object\n",
    "img = Image.fromarray(img_back_star)\n",
    "\n",
    "# Save the image\n",
    "img.save(\"den_star.png\")"
   ]
  },
  {
   "cell_type": "code",
   "execution_count": null,
   "id": "82740e41-845f-4708-887c-278671976c1e",
   "metadata": {},
   "outputs": [],
   "source": [
    "print(np.square(sample_gt - sample_gt).mean())\n",
    "print(np.square(sample_noisy - sample_gt).mean())\n",
    "print(np.square(img_back_ellipse - sample_gt).mean())\n",
    "print(np.square(img_back_diamond - sample_gt).mean())\n",
    "print(np.square(img_back_star - sample_gt).mean())"
   ]
  },
  {
   "cell_type": "code",
   "execution_count": null,
   "id": "78937482-bbf0-4fa0-be36-5968734ba9e2",
   "metadata": {},
   "outputs": [],
   "source": [
    "print(ssim(sample_gt, sample_gt, multichannel=True))\n",
    "print(ssim(sample_noisy, sample_gt, multichannel=True))\n",
    "print(ssim(img_back_ellipse, sample_gt, multichannel=True))\n",
    "print(ssim(img_back_diamond, sample_gt, multichannel=True))\n",
    "print(ssim(img_back_star, sample_gt, multichannel=True))"
   ]
  },
  {
   "cell_type": "code",
   "execution_count": null,
   "id": "ce203087-6385-46f6-8d7e-dd99ffe03242",
   "metadata": {},
   "outputs": [],
   "source": [
    "print(psnr(sample_gt, sample_gt))\n",
    "print(psnr(sample_noisy, sample_gt))\n",
    "print(psnr(img_back_ellipse, sample_gt))\n",
    "print(psnr(img_back_diamond, sample_gt))\n",
    "print(psnr(img_back_star, sample_gt))"
   ]
  },
  {
   "cell_type": "code",
   "execution_count": null,
   "id": "7e7e1583-0731-46eb-8e21-c8297148a776",
   "metadata": {},
   "outputs": [],
   "source": [
    "f_transform_shifted_channels_noisy_ellipse = [f_transform * sample_ellipse for f_transform in f_transform_shifted_channels_noisy]\n",
    "f_transform_shifted_channels_noisy_diamind = [f_transform * sample_diamond for f_transform in f_transform_shifted_channels_noisy]\n",
    "f_transform_shifted_channels_noisy_star = [f_transform * sample_star for f_transform in f_transform_shifted_channels_noisy]\n"
   ]
  },
  {
   "cell_type": "code",
   "execution_count": null,
   "id": "1c80ae22-6ecd-4b90-9d9f-52e139c27c38",
   "metadata": {},
   "outputs": [],
   "source": [
    "data1 = magnitude_spectra_noisy[0].flatten()\n",
    "data2 = magnitude_spectra_noisy[1].flatten()\n",
    "data3 = magnitude_spectra_noisy[2].flatten()\n",
    "\n",
    "# Create the figure\n",
    "fig = go.Figure()\n",
    "\n",
    "# Add three histograms\n",
    "fig.add_trace(go.Histogram(x=data1, name='Dataset 1', opacity=0.75))\n",
    "fig.add_trace(go.Histogram(x=data2, name='Dataset 2', opacity=0.75))\n",
    "fig.add_trace(go.Histogram(x=data3, name='Dataset 3', opacity=0.75))\n",
    "\n",
    "# Update layout\n",
    "fig.update_layout(\n",
    "    title='Three Histograms in One Plot',\n",
    "    xaxis_title='Value',\n",
    "    yaxis_title='Count',\n",
    "    barmode='overlay'  # This will overlay the histograms\n",
    ")\n",
    "\n",
    "# Show the plot\n",
    "fig.show()"
   ]
  },
  {
   "cell_type": "code",
   "execution_count": null,
   "id": "27120064-bca2-43b2-bef1-45da929dd3fc",
   "metadata": {},
   "outputs": [],
   "source": [
    "data1_gt = magnitude_spectra_gt[0].flatten()\n",
    "data2_gt = magnitude_spectra_gt[1].flatten()\n",
    "data3_gt = magnitude_spectra_gt[2].flatten()\n",
    "\n",
    "# Create the figure\n",
    "fig = go.Figure()\n",
    "\n",
    "# Add three histograms\n",
    "fig.add_trace(go.Histogram(x=data1_gt, name='Dataset 1', opacity=0.75))\n",
    "fig.add_trace(go.Histogram(x=data2_gt, name='Dataset 2', opacity=0.75))\n",
    "fig.add_trace(go.Histogram(x=data3_gt, name='Dataset 3', opacity=0.75))\n",
    "\n",
    "# Update layout\n",
    "fig.update_layout(\n",
    "    title='Three Histograms in One Plot',\n",
    "    xaxis_title='Value',\n",
    "    yaxis_title='Count',\n",
    "    barmode='overlay'  # This will overlay the histograms\n",
    ")\n",
    "\n",
    "# Show the plot\n",
    "fig.show()"
   ]
  },
  {
   "cell_type": "code",
   "execution_count": null,
   "id": "79b12717-3eea-4f0e-82a8-c4c0b3ad8f06",
   "metadata": {},
   "outputs": [],
   "source": [
    "# Create the figure\n",
    "fig = go.Figure()\n",
    "\n",
    "# Add three histograms\n",
    "fig.add_trace(go.Histogram(x=data1, name='Dataset 1 Noisy', opacity=0.75))\n",
    "fig.add_trace(go.Histogram(x=data1_gt, name='Dataset 1 GT', opacity=0.75))\n",
    "\n",
    "# Update layout\n",
    "fig.update_layout(\n",
    "    title='Two Histograms in One Plot',\n",
    "    xaxis_title='Value',\n",
    "    yaxis_title='Count',\n",
    "    barmode='overlay'  # This will overlay the histograms\n",
    ")\n",
    "\n",
    "# Show the plot\n",
    "fig.show()"
   ]
  },
  {
   "cell_type": "code",
   "execution_count": null,
   "id": "eed006a1-4b08-44c1-a586-d97bc5d02a32",
   "metadata": {},
   "outputs": [],
   "source": [
    "# Create the figure\n",
    "fig = go.Figure()\n",
    "\n",
    "# Add three histograms\n",
    "fig.add_trace(go.Histogram(x=data2, name='Dataset 2 Noisy', opacity=0.75))\n",
    "fig.add_trace(go.Histogram(x=data2_gt, name='Dataset 2 GT', opacity=0.75))\n",
    "\n",
    "# Update layout\n",
    "fig.update_layout(\n",
    "    title='Two Histograms in One Plot',\n",
    "    xaxis_title='Value',\n",
    "    yaxis_title='Count',\n",
    "    barmode='overlay'  # This will overlay the histograms\n",
    ")\n",
    "\n",
    "# Show the plot\n",
    "fig.show()"
   ]
  },
  {
   "cell_type": "code",
   "execution_count": null,
   "id": "8fd2f1b5-3b81-42a5-8fbc-1948f0e54ad8",
   "metadata": {},
   "outputs": [],
   "source": [
    "# Create the figure\n",
    "fig = go.Figure()\n",
    "\n",
    "# Add three histograms\n",
    "fig.add_trace(go.Histogram(x=data3, name='Dataset 3 Noisy', opacity=0.75))\n",
    "fig.add_trace(go.Histogram(x=data3_gt, name='Dataset 3 GT', opacity=0.75))\n",
    "\n",
    "# Update layout\n",
    "fig.update_layout(\n",
    "    title='Two Histograms in One Plot',\n",
    "    xaxis_title='Value',\n",
    "    yaxis_title='Count',\n",
    "    barmode='overlay'  # This will overlay the histograms\n",
    ")\n",
    "\n",
    "# Show the plot\n",
    "fig.show()"
   ]
  },
  {
   "cell_type": "code",
   "execution_count": null,
   "id": "5bb31f9f-5c06-4eba-87a6-c8c076218060",
   "metadata": {},
   "outputs": [],
   "source": []
  }
 ],
 "metadata": {
  "kernelspec": {
   "display_name": "Python [conda env:.conda-Pycharm]",
   "language": "python",
   "name": "conda-env-.conda-Pycharm-py"
  },
  "language_info": {
   "codemirror_mode": {
    "name": "ipython",
    "version": 3
   },
   "file_extension": ".py",
   "mimetype": "text/x-python",
   "name": "python",
   "nbconvert_exporter": "python",
   "pygments_lexer": "ipython3",
   "version": "3.9.18"
  }
 },
 "nbformat": 4,
 "nbformat_minor": 5
}
