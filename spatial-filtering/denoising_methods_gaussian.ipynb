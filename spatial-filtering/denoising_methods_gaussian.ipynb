{
 "cells": [
  {
   "cell_type": "markdown",
   "id": "011b3b45-9ea7-4015-baaa-b6257d7bad0e",
   "metadata": {},
   "source": [
    "# Denoising Methods - Filters"
   ]
  },
  {
   "cell_type": "code",
   "execution_count": 1,
   "id": "initial_id",
   "metadata": {},
   "outputs": [],
   "source": [
    "import plotly.graph_objects as go\n",
    "from plotly.subplots import make_subplots\n",
    "\n",
    "import numpy as np\n",
    "from PIL import Image\n",
    "\n",
    "from image_processing_utilities.functions import l2_samples, ssim_samples, psnr_samples, dataset_generator"
   ]
  },
  {
   "cell_type": "code",
   "execution_count": 2,
   "id": "b3ce7a65-6561-4251-811b-b1bbeb258f6e",
   "metadata": {},
   "outputs": [],
   "source": [
    "dataset = 'SIDD'\n",
    "method = 'Gaussian'\n",
    "\n",
    "val_noisy_mat, val_gt_mat = dataset_generator()"
   ]
  },
  {
   "cell_type": "code",
   "execution_count": null,
   "id": "a84528d5-3fa5-4d19-b26e-b218a64fbd1e",
   "metadata": {},
   "outputs": [],
   "source": [
    "# Sample Images\n",
    "image_samples = [1, 10, 17, 23]\n",
    "image_crops = [2, 4, 7, 11]\n",
    "samples_noisy = np.array([[val_noisy_mat[i, j] for j in image_crops] for i in image_samples])\n",
    "samples_gt = np.array([[val_gt_mat[i, j] for j in image_crops] for i in image_samples])"
   ]
  },
  {
   "cell_type": "code",
   "execution_count": null,
   "id": "6234cec0-5cc3-4012-9709-9698f7b13115",
   "metadata": {},
   "outputs": [],
   "source": [
    "# Create subplot figure with 2 rows and 2 columns\n",
    "fig = make_subplots(rows=4, cols=4, subplot_titles=(\n",
    "    \"Noisy 01\", \"GT 01\", \"Noisy 02\", \"GT 02\", \n",
    "    \"Noisy 03\", \"GT 03\", \"Noisy 04\", \"GT 04\",\n",
    "    \"Noisy 05\", \"GT 05\", \"Noisy 06\", \"GT 06\", \n",
    "    \"Noisy 07\", \"GT 07\", \"Noisy 08\", \"GT 08\"\n",
    "))\n",
    "\n",
    "# Add images to the subplots\n",
    "fig.add_trace(go.Image(z=samples_noisy[0][1]), row=1, col=1)  # Noisy Image\n",
    "fig.add_trace(go.Image(z=samples_gt[0][1]), row=1, col=2)  # Ground Truth\n",
    "\n",
    "fig.add_trace(go.Image(z=samples_noisy[1][0]), row=1, col=3)  # Noisy Image\n",
    "fig.add_trace(go.Image(z=samples_gt[1][0]), row=1, col=4)  # Ground Truth\n",
    "\n",
    "fig.add_trace(go.Image(z=samples_noisy[1][3]), row=2, col=1)  # Noisy Image\n",
    "fig.add_trace(go.Image(z=samples_gt[1][3]), row=2, col=2)  # Ground Truth\n",
    "\n",
    "fig.add_trace(go.Image(z=samples_noisy[2][0]), row=2, col=3)  # Noisy Image\n",
    "fig.add_trace(go.Image(z=samples_gt[2][0]), row=2, col=4)  # Ground Truth\n",
    "\n",
    "fig.add_trace(go.Image(z=samples_noisy[3][0]), row=3, col=1)  # Noisy Image\n",
    "fig.add_trace(go.Image(z=samples_gt[3][0]), row=3, col=2)  # Ground Truth\n",
    "\n",
    "fig.add_trace(go.Image(z=samples_noisy[3][1]), row=3, col=3)  # Noisy Image\n",
    "fig.add_trace(go.Image(z=samples_gt[3][1]), row=3, col=4)  # Ground Truth\n",
    "\n",
    "fig.add_trace(go.Image(z=samples_noisy[3][2]), row=4, col=1)  # Noisy Image\n",
    "fig.add_trace(go.Image(z=samples_gt[3][2]), row=4, col=2)  # Ground Truth\n",
    "\n",
    "fig.add_trace(go.Image(z=samples_noisy[3][3]), row=4, col=3)  # Noisy Image\n",
    "fig.add_trace(go.Image(z=samples_gt[3][3]), row=4, col=4)  # Ground Truth\n",
    "\n",
    "# Remove axes for all subplots\n",
    "fig.update_xaxes(showticklabels=False, showgrid=False, zeroline=False)\n",
    "fig.update_yaxes(showticklabels=False, showgrid=False, zeroline=False)\n",
    "\n",
    "fig.update_layout(height=1000, \n",
    "                  width=1200, \n",
    "                  title_text=\"Noisy and Ground Truth Images\",\n",
    "                  margin=dict(l=20, r=20, t=80, b=20),  # Reduce margins\n",
    ")\n",
    "fig.show()"
   ]
  },
  {
   "cell_type": "markdown",
   "id": "addffa40-1022-41ba-aada-a463d71f9a52",
   "metadata": {},
   "source": [
    "# Gaussian Filter"
   ]
  },
  {
   "cell_type": "code",
   "execution_count": null,
   "id": "16692b3d-146a-4009-b9ad-022193aed205",
   "metadata": {},
   "outputs": [],
   "source": [
    "print('ORIGINAL VALUES\\n')\n",
    "\n",
    "print('L2: ', l2_samples(samples_noisy, samples_gt))\n",
    "print('SSIM: ', ssim_samples(samples_noisy, samples_gt))\n",
    "print('PSNR: ', psnr_samples(samples_noisy, samples_gt))"
   ]
  },
  {
   "cell_type": "code",
   "execution_count": null,
   "id": "f74195e7-649e-4486-aa49-b2e065249afd",
   "metadata": {},
   "outputs": [],
   "source": [
    "# Grid search find the best parameters:\n",
    "kernels = list(range(1, 51, 2))\n",
    "sigmas = list(np.arange(1, 15.25, .25))"
   ]
  },
  {
   "cell_type": "code",
   "execution_count": null,
   "id": "f27b088c-a1a1-41b5-9bf6-223b0b1ab98f",
   "metadata": {
    "scrolled": true
   },
   "outputs": [],
   "source": [
    "best_loss = 1e4\n",
    "best_kernel = None\n",
    "best_sigma = None\n",
    "best_index = None\n",
    "\n",
    "metrics = np.zeros((len(kernels), len(sigmas)))\n",
    "for i, kernel in enumerate(kernels):\n",
    "    for j, sigma in enumerate(sigmas):\n",
    "        test = gaussian_blurr_samples(samples_noisy, kernel, sigma)\n",
    "        \n",
    "        avg_loss = 1 - ssim_samples(test, samples_gt)\n",
    "        metrics[i, j] = avg_loss\n",
    "\n",
    "        if avg_loss < best_loss:\n",
    "            best_index = [i, j]\n",
    "            best_kernel = kernel\n",
    "            best_sigma = sigma\n",
    "            best_loss = avg_loss\n",
    "    \n",
    "print(best_kernel, best_sigma)"
   ]
  },
  {
   "cell_type": "code",
   "execution_count": null,
   "id": "2b372d0a-726c-471e-ae8b-000ee5801ce3",
   "metadata": {},
   "outputs": [],
   "source": [
    "metrics_normalized = (metrics - metrics.min()) / (metrics.max() - metrics.min())\n",
    "\n",
    "fig = go.Figure(data=go.Heatmap(z=metrics_normalized.T, x=kernels, y=sigmas, colorscale='viridis'))\n",
    "# Add a star annotation for the minimum value\n",
    "fig.add_annotation(\n",
    "    x=best_kernel, y=best_sigma,\n",
    "    text=\"★ min\",\n",
    "    showarrow=False,\n",
    "    font=dict(size=10, color=\"red\")\n",
    ")    \n",
    "fig.update_layout(height=500, width=1000, \n",
    "    xaxis_title='Kernels',\n",
    "    yaxis_title='Sigmas'\n",
    ")\n",
    "\n",
    "fig.show()\n"
   ]
  },
  {
   "cell_type": "code",
   "execution_count": null,
   "id": "b89f953f-0697-466e-86e0-69f0e7cff4d3",
   "metadata": {},
   "outputs": [],
   "source": [
    "# Create the 3D surface plot\n",
    "fig = go.Figure(data=[go.Surface(z=metrics_normalized.T, x=kernels, y=sigmas, colorscale='Viridis')])\n",
    "\n",
    "# Update layout\n",
    "fig.update_layout(height=500, width=600,\n",
    "    scene=dict(\n",
    "        xaxis_title='Kernels',\n",
    "        yaxis_title='Sigmas',\n",
    "        zaxis_title='Normalized Loss'\n",
    "    )\n",
    ")\n",
    "\n",
    "# Show the plot\n",
    "fig.show()"
   ]
  },
  {
   "cell_type": "code",
   "execution_count": null,
   "id": "5baba5f0-6ac6-4db0-bc0c-56394336d036",
   "metadata": {},
   "outputs": [],
   "source": [
    "denoised = gaussian_blurr_samples(samples_noisy, best_kernel, best_sigma)\n",
    "\n",
    "print('Denoised VALUES\\n')\n",
    "\n",
    "print('L2: ', l2_samples(denoised, samples_gt))\n",
    "print('SSIM: ', ssim_samples(denoised, samples_gt))\n",
    "print('PSNR: ', psnr_samples(denoised, samples_gt))"
   ]
  },
  {
   "cell_type": "code",
   "execution_count": null,
   "id": "dd98632e-c9ad-440f-84d1-bd4fc45a5338",
   "metadata": {},
   "outputs": [],
   "source": [
    "# Create subplot figure with 2 rows and 2 columns\n",
    "fig = make_subplots(rows=4, cols=6, subplot_titles=(\n",
    "    \"Noisy 01\", \"Denoised 01\", \"GT 01\", \"Noisy 02\", \"Denoised 02\", \"GT 02\", \n",
    "    \"Noisy 03\", \"Denoised 03\", \"GT 03\", \"Noisy 04\", \"Denoised 04\", \"GT 04\",\n",
    "    \"Noisy 05\", \"Denoised 05\", \"GT 05\", \"Noisy 06\", \"Denoised 06\", \"GT 06\", \n",
    "    \"Noisy 07\", \"Denoised 07\", \"GT 07\", \"Noisy 08\", \"Denoised 08\", \"GT 08\"\n",
    "))\n",
    "\n",
    "# Add images to the subplots\n",
    "fig.add_trace(go.Image(z=samples_noisy[0][1]), row=1, col=1)  # Noisy Image\n",
    "fig.add_trace(go.Image(z=denoised[0][1]), row=1, col=2)  # Denoised Image\n",
    "fig.add_trace(go.Image(z=samples_gt[0][1]), row=1, col=3)  # Ground Truth\n",
    "\n",
    "fig.add_trace(go.Image(z=samples_noisy[1][0]), row=1, col=4)  # Noisy Image\n",
    "fig.add_trace(go.Image(z=denoised[1][0]), row=1, col=5)  # Denoised Image\n",
    "fig.add_trace(go.Image(z=samples_gt[1][0]), row=1, col=6)  # Ground Truth\n",
    "\n",
    "fig.add_trace(go.Image(z=samples_noisy[1][3]), row=2, col=1)  # Noisy Image\n",
    "fig.add_trace(go.Image(z=denoised[1][3]), row=2, col=2)  # Denoised Image\n",
    "fig.add_trace(go.Image(z=samples_gt[1][3]), row=2, col=3)  # Ground Truth\n",
    "\n",
    "fig.add_trace(go.Image(z=samples_noisy[2][0]), row=2, col=4)  # Noisy Image\n",
    "fig.add_trace(go.Image(z=denoised[2][0]), row=2, col=5)  # Denoised Image\n",
    "fig.add_trace(go.Image(z=samples_gt[2][0]), row=2, col=6)  # Ground Truth\n",
    "\n",
    "fig.add_trace(go.Image(z=samples_noisy[3][0]), row=3, col=1)  # Noisy Image\n",
    "fig.add_trace(go.Image(z=denoised[3][0]), row=3, col=2)  # Denoised Image\n",
    "fig.add_trace(go.Image(z=samples_gt[3][0]), row=3, col=3)  # Ground Truth\n",
    "\n",
    "fig.add_trace(go.Image(z=samples_noisy[3][1]), row=3, col=4)  # Noisy Image\n",
    "fig.add_trace(go.Image(z=denoised[3][1]), row=3, col=5)  # Denoised Image\n",
    "fig.add_trace(go.Image(z=samples_gt[3][1]), row=3, col=6)  # Ground Truth\n",
    "\n",
    "fig.add_trace(go.Image(z=samples_noisy[3][2]), row=4, col=1)  # Noisy Image\n",
    "fig.add_trace(go.Image(z=denoised[3][2]), row=4, col=2)  # Denoised Image\n",
    "fig.add_trace(go.Image(z=samples_gt[3][2]), row=4, col=3)  # Ground Truth\n",
    "\n",
    "fig.add_trace(go.Image(z=samples_noisy[3][3]), row=4, col=4)  # Noisy Image\n",
    "fig.add_trace(go.Image(z=denoised[3][3]), row=4, col=5)  # Denoised Image\n",
    "fig.add_trace(go.Image(z=samples_gt[3][3]), row=4, col=6)  # Ground Truth\n",
    "\n",
    "# Remove axes for all subplots\n",
    "fig.update_xaxes(showticklabels=False, showgrid=False, zeroline=False)\n",
    "fig.update_yaxes(showticklabels=False, showgrid=False, zeroline=False)\n",
    "\n",
    "fig.update_layout(height=1000, \n",
    "                  width=1200, \n",
    "                  # title_text=\"Noisy and Ground Truth Images\",\n",
    "                  margin=dict(l=40, r=40, t=40, b=20),  # Reduce margins\n",
    ")\n",
    "fig.show()"
   ]
  },
  {
   "cell_type": "code",
   "execution_count": null,
   "id": "a5551301-4c47-4741-8d15-b6c5a9a4c7f1",
   "metadata": {},
   "outputs": [],
   "source": [
    "# Create subplot figure with 2 rows and 2 columns\n",
    "fig = make_subplots(rows=3, cols=3, subplot_titles=(\n",
    "    \"Noisy 01\", \"Denoised 01\", \"GT 01\", \"Noisy 02\", \"Denoised 02\", \"GT 02\", \n",
    "    \"Noisy 03\", \"Denoised 03\", \"GT 03\"\n",
    "))\n",
    "\n",
    "# Add images to the subplots\n",
    "fig.add_trace(go.Image(z=samples_noisy[0][1]), row=1, col=1)  # Noisy Image\n",
    "fig.add_trace(go.Image(z=denoised[0][1]), row=1, col=2)  # Denoised Image\n",
    "fig.add_trace(go.Image(z=samples_gt[0][1]), row=1, col=3)  # Ground Truth\n",
    "\n",
    "fig.add_trace(go.Image(z=samples_noisy[1][3]), row=2, col=1)  # Noisy Image\n",
    "fig.add_trace(go.Image(z=denoised[1][3]), row=2, col=2)  # Denoised Image\n",
    "fig.add_trace(go.Image(z=samples_gt[1][3]), row=2, col=3)  # Ground Truth\n",
    "\n",
    "fig.add_trace(go.Image(z=samples_noisy[2][0]), row=3, col=1)  # Noisy Image\n",
    "fig.add_trace(go.Image(z=denoised[2][0]), row=3, col=2)  # Denoised Image\n",
    "fig.add_trace(go.Image(z=samples_gt[2][0]), row=3, col=3)  # Ground Truth\n",
    "\n",
    "# Remove axes for all subplots\n",
    "fig.update_xaxes(showticklabels=False, showgrid=False, zeroline=False)\n",
    "fig.update_yaxes(showticklabels=False, showgrid=False, zeroline=False)\n",
    "\n",
    "fig.update_layout(height=500, \n",
    "                  width=1000, \n",
    "                  # title_text=\"Noisy and Ground Truth Images\",\n",
    "                  margin=dict(l=20, r=20, t=20, b=20),  # Reduce margins\n",
    ")\n",
    "fig.show()"
   ]
  },
  {
   "cell_type": "code",
   "execution_count": null,
   "id": "d6059cd0-e62d-4a5e-b2d0-5d669b655c48",
   "metadata": {},
   "outputs": [],
   "source": [
    "# Convert the NumPy array to a PIL Image object\n",
    "img = Image.fromarray(samples_gt[2][0])\n",
    "\n",
    "# Save the image\n",
    "# img.save(\"gt_3.png\")"
   ]
  },
  {
   "cell_type": "code",
   "execution_count": null,
   "id": "73478045-06c3-4f54-909f-400a8e9c161f",
   "metadata": {},
   "outputs": [],
   "source": []
  }
 ],
 "metadata": {
  "kernelspec": {
   "display_name": "Python [conda env:ENAS]",
   "language": "python",
   "name": "conda-env-ENAS-py"
  },
  "language_info": {
   "codemirror_mode": {
    "name": "ipython",
    "version": 3
   },
   "file_extension": ".py",
   "mimetype": "text/x-python",
   "name": "python",
   "nbconvert_exporter": "python",
   "pygments_lexer": "ipython3",
   "version": "3.10.9"
  }
 },
 "nbformat": 4,
 "nbformat_minor": 5
}
