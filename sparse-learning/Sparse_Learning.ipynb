{
 "cells": [
  {
   "cell_type": "code",
   "execution_count": null,
   "id": "8a123718-0424-48df-a26a-39f3afd9496f",
   "metadata": {},
   "outputs": [],
   "source": [
    "import numpy as np\n",
    "import matplotlib.pyplot as plt\n",
    "# from sklearn.decomposition import DictionaryLearning\n",
    "from sklearn.decomposition import MiniBatchDictionaryLearning\n",
    "from sklearn.datasets import fetch_olivetti_faces\n"
   ]
  },
  {
   "cell_type": "code",
   "execution_count": null,
   "id": "87bd8089-2a08-4ab2-8ec2-760d8672b220",
   "metadata": {},
   "outputs": [],
   "source": []
  },
  {
   "cell_type": "code",
   "execution_count": null,
   "id": "722f8405-f7c8-405c-b534-c41fbe5275cb",
   "metadata": {},
   "outputs": [],
   "source": [
    "# Load the Olivetti faces dataset\n",
    "faces = fetch_olivetti_faces()\n",
    "X = faces.data"
   ]
  },
  {
   "cell_type": "code",
   "execution_count": null,
   "id": "fb41e293-3502-448f-b857-0fce73a4ecf4",
   "metadata": {},
   "outputs": [],
   "source": [
    "sparse_dicts = []\n",
    "for i in [50, 75, 100]:\n",
    "    dict_learner = MiniBatchDictionaryLearning(n_components=i, batch_size=10, transform_algorithm='lasso_lars',\n",
    "                                               transform_alpha=0.1, max_iter=30, random_state=42)\n",
    "    dict_learner.fit(X)  # Fit the dictionary to the noisy data\n",
    "    X_sparse = dict_learner.transform(X) @ dict_learner.components_  # Reconstruct the denoised images\n",
    "    sparse_dicts.append(X_sparse)\n"
   ]
  },
  {
   "cell_type": "code",
   "execution_count": null,
   "id": "3aafef2e-bb01-4e5f-baea-a97b255ec4e5",
   "metadata": {},
   "outputs": [],
   "source": [
    "# Plot the original, noisy, and denoised images\n",
    "fig, axes = plt.subplots(nrows=4, ncols=5, figsize=(8, 8))\n",
    "\n",
    "for i in range(5):\n",
    "    axes[0, i].imshow(X[i].reshape(64, 64), cmap='gray')\n",
    "    axes[0, i].set_title(\"Original\")\n",
    "    axes[1, i].imshow(sparse_dicts[0][i].reshape(64, 64), cmap='gray')\n",
    "    axes[1, i].set_title(\"Sparse - 50\")\n",
    "    axes[2, i].imshow(sparse_dicts[1][i].reshape(64, 64), cmap='gray')\n",
    "    axes[2, i].set_title(\"Sparse - 75\")\n",
    "    axes[3, i].imshow(sparse_dicts[2][i].reshape(64, 64), cmap='gray')\n",
    "    axes[3, i].set_title(\"Sparse - 100\")\n",
    "\n",
    "plt.tight_layout()\n",
    "plt.show()"
   ]
  },
  {
   "cell_type": "code",
   "execution_count": null,
   "id": "6c960011-56f2-425f-86ed-9d408118525a",
   "metadata": {},
   "outputs": [],
   "source": []
  }
 ],
 "metadata": {
  "kernelspec": {
   "display_name": "Python 3 (ipykernel)",
   "language": "python",
   "name": "python3"
  },
  "language_info": {
   "codemirror_mode": {
    "name": "ipython",
    "version": 3
   },
   "file_extension": ".py",
   "mimetype": "text/x-python",
   "name": "python",
   "nbconvert_exporter": "python",
   "pygments_lexer": "ipython3",
   "version": "3.8.18"
  }
 },
 "nbformat": 4,
 "nbformat_minor": 5
}
