{
 "cells": [
  {
   "cell_type": "code",
   "execution_count": null,
   "id": "b0ba3229-a786-49f5-bce0-bfffb1539199",
   "metadata": {},
   "outputs": [],
   "source": [
    "import numpy as np\n",
    "from sklearn.decomposition import DictionaryLearning\n",
    "from sklearn.datasets import fetch_openml\n",
    "from sklearn.model_selection import train_test_split\n",
    "from sklearn.preprocessing import MinMaxScaler\n",
    "import matplotlib.pyplot as plt\n"
   ]
  },
  {
   "cell_type": "code",
   "execution_count": null,
   "id": "1a8a8a89-ece8-4598-a68a-97401cf54b0a",
   "metadata": {},
   "outputs": [],
   "source": [
    "def plot_digits(X, title):\n",
    "    \"\"\"Small helper function to plot 100 digits.\"\"\"\n",
    "    fig, axs = plt.subplots(nrows=10, ncols=10, figsize=(8, 8))\n",
    "    for img, ax in zip(X, axs.ravel()):\n",
    "        ax.imshow(img.reshape((16, 16)), cmap=\"Greys\")\n",
    "        ax.axis(\"off\")\n",
    "    fig.suptitle(title, fontsize=24)\n",
    "\n",
    "def SSIM_Batch(X, X_true):\n",
    "    m, _ = X.shape\n",
    "    ssim_val = 0\n",
    "    for i in range(m):\n",
    "        ns = X[i].reshape((16, 16))\n",
    "        gt = X_true[i].reshape((16, 16))\n",
    "\n",
    "        ssim_val += ssim(ns, gt)\n",
    "\n",
    "    return ssim_val / m\n"
   ]
  },
  {
   "cell_type": "code",
   "execution_count": null,
   "id": "48c4aef0-2e11-4467-bdb3-43bed1df3ebe",
   "metadata": {},
   "outputs": [],
   "source": [
    "# Load the dataset\n",
    "X, y = fetch_openml(data_id=41082, as_frame=False, return_X_y=True)\n",
    "X = MinMaxScaler().fit_transform(X)\n"
   ]
  },
  {
   "cell_type": "code",
   "execution_count": null,
   "id": "b6f77316-46ea-4cb2-82fa-e1b2ab442f0f",
   "metadata": {},
   "outputs": [],
   "source": [
    "X_train, X_test, y_train, y_test = train_test_split(\n",
    "    X, y, stratify=y, random_state=0, train_size=1_000, test_size=100\n",
    ")\n",
    "\n",
    "rng = np.random.RandomState(0)\n",
    "noise = rng.normal(scale=0.25, size=X_test.shape)\n",
    "X_test_noisy = X_test + noise\n",
    "\n",
    "noise = rng.normal(scale=0.25, size=X_train.shape)\n",
    "X_train_noisy = X_train + noise"
   ]
  },
  {
   "cell_type": "code",
   "execution_count": null,
   "id": "e96bc80f-a3eb-4741-899c-b9a581a62cae",
   "metadata": {},
   "outputs": [],
   "source": [
    "plot_digits(X_test, \"Uncorrupted test images\")\n",
    "plot_digits(\n",
    "    X_test_noisy, f\"Noisy test images\\nMSE: {np.mean((X_test - X_test_noisy) ** 2):.2f}\"\n",
    ")"
   ]
  },
  {
   "cell_type": "code",
   "execution_count": null,
   "id": "4d02f118-8e54-413b-927c-61d3202b3d11",
   "metadata": {},
   "outputs": [],
   "source": [
    "MSE = []\n",
    "MSE_max = 1e4\n",
    "MSE_index = -1\n",
    "k_vals = np.arange(10, 50 + 1, 1)\n",
    "for index, k in enumerate(k_vals):\n",
    "    # Create a K-SVD dictionary learning object\n",
    "    ksvd = DictionaryLearning(n_components=k,\n",
    "                              transform_algorithm='omp')\n",
    "    # ksvd = MiniBatchDictionaryLearning(n_components=k, \n",
    "    #                                    batch_size=100, \n",
    "    #                                    transform_algorithm='omp',\n",
    "    #                                    transform_alpha=0.1, \n",
    "    #                                    max_iter=30, \n",
    "    #                                    random_state=42)\n",
    "\n",
    "    ksvd.fit(X_train_noisy)  # Fit the dictionary to the noisy data\n",
    "    X_denoised = ksvd.transform(X_test_noisy) @ ksvd.components_  # Reconstruct the denoised images\n",
    "    MSE_val = np.mean((X_denoised - X_test) ** 2)\n",
    "    MSE.append(MSE_val)\n",
    "\n",
    "    if MSE_max > MSE_val:\n",
    "        MSE_max = MSE_val\n",
    "        MSE_index = index\n"
   ]
  },
  {
   "cell_type": "code",
   "execution_count": null,
   "id": "193366a5-5dfd-4fb4-b989-30e05e787b3b",
   "metadata": {},
   "outputs": [],
   "source": [
    "import plotly.express as px\n",
    "import plotly.graph_objects as go\n",
    "from plotly.subplots import make_subplots\n",
    "\n",
    "fig = make_subplots(specs=[[{\"secondary_y\": True}]])\n",
    "fig.add_trace(go.Scatter(x=k_vals, y=MSE, name='MSE'), secondary_y=False)\n",
    "# fig.add_trace(go.Scatter(x=k_vals, y=SSIM_array, name='SSIM'), secondary_y=True)\n",
    "\n",
    "fig.update_layout(\n",
    "    xaxis_title='Principal Components',\n",
    "    yaxis_title='Loss',\n",
    "    width=1000,  # Set width of the graph\n",
    "    height=400  # Set height of the graph\n",
    ")\n",
    "fig.show()"
   ]
  },
  {
   "cell_type": "code",
   "execution_count": null,
   "id": "be861c46-39f8-4b15-804e-dd4839e765af",
   "metadata": {},
   "outputs": [],
   "source": [
    "k = k_vals[MSE_index]\n",
    "\n",
    "# Create a K-SVD dictionary learning object\n",
    "ksvd = DictionaryLearning(n_components=k,\n",
    "                          transform_algorithm='omp')\n",
    "\n",
    "ksvd.fit(X_train_noisy)  # Fit the dictionary to the noisy data\n",
    "X_denoised = ksvd.transform(X_test_noisy) @ ksvd.components_  # Reconstruct the denoised images\n"
   ]
  },
  {
   "cell_type": "code",
   "execution_count": null,
   "id": "d45ac4eb-e9eb-44e4-915d-a93649892a00",
   "metadata": {},
   "outputs": [],
   "source": [
    "plot_digits(X_test, \"Uncorrupted test images\")\n",
    "plot_digits(\n",
    "    X_test_noisy, f\"Noisy test images\\nMSE: {np.mean((X_test - X_test_noisy) ** 2):.3f}\"\n",
    ")\n",
    "plot_digits(\n",
    "    X_denoised,\n",
    "    f\"KSVD reconstruction, k = {k}, \\nMSE: {np.mean((X_test - X_denoised) ** 2):.3f}\".format(k=k),\n",
    ")"
   ]
  },
  {
   "cell_type": "code",
   "execution_count": null,
   "id": "4c839820-ee41-4501-a3a9-fbcbeb9da8be",
   "metadata": {},
   "outputs": [],
   "source": [
    "def plot_digits_plotly(X):\n",
    "    \"\"\"Small helper function to plot 64 digits using plotly.\"\"\"\n",
    "    # Create subplot grid\n",
    "    fig = make_subplots(rows=8, cols=8)\n",
    "    \n",
    "    # Add each image as a heatmap\n",
    "    for idx, img in enumerate(X[:64]):\n",
    "        row = idx // 8 + 1\n",
    "        col = idx % 8 + 1\n",
    "        \n",
    "        # Reshape image and create heatmap\n",
    "        img_reshaped = img.reshape((16, 16))\n",
    "        fig.add_trace(\n",
    "            go.Heatmap(z=img_reshaped, \n",
    "                      colorscale='Greys',\n",
    "                      showscale=False),\n",
    "            row=row, col=col\n",
    "        )\n",
    "        \n",
    "        # Remove axes for each subplot\n",
    "        fig.update_xaxes(showticklabels=False, showgrid=False, row=row, col=col)\n",
    "        fig.update_yaxes(autorange=\"reversed\", showticklabels=False, showgrid=False, row=row, col=col)\n",
    "    \n",
    "    # Update layout\n",
    "    fig.update_layout(\n",
    "        width=800,\n",
    "        height=800,\n",
    "        showlegend=False,\n",
    "        margin=dict(t=0, l=0, r=0, b=0)\n",
    "    )\n",
    "    \n",
    "    return fig"
   ]
  },
  {
   "cell_type": "code",
   "execution_count": null,
   "id": "684b9b73-4bb0-4809-94e0-3ecdd4a10928",
   "metadata": {},
   "outputs": [],
   "source": [
    "plot_digits_plotly(X_test)\n"
   ]
  },
  {
   "cell_type": "code",
   "execution_count": null,
   "id": "7fd82a29-cb97-4b38-8d1c-13c2b9321883",
   "metadata": {},
   "outputs": [],
   "source": [
    "plot_digits_plotly(X_test_noisy)"
   ]
  },
  {
   "cell_type": "code",
   "execution_count": null,
   "id": "d13b5fb6-a27a-4113-b98e-d4c841c53163",
   "metadata": {},
   "outputs": [],
   "source": [
    "plot_digits_plotly(X_denoised)"
   ]
  },
  {
   "cell_type": "code",
   "execution_count": null,
   "id": "f4b857d4-a715-4c5a-a12e-9c693cee070f",
   "metadata": {},
   "outputs": [],
   "source": []
  }
 ],
 "metadata": {
  "kernelspec": {
   "display_name": "Python 3 (ipykernel)",
   "language": "python",
   "name": "python3"
  },
  "language_info": {
   "codemirror_mode": {
    "name": "ipython",
    "version": 3
   },
   "file_extension": ".py",
   "mimetype": "text/x-python",
   "name": "python",
   "nbconvert_exporter": "python",
   "pygments_lexer": "ipython3",
   "version": "3.8.18"
  }
 },
 "nbformat": 4,
 "nbformat_minor": 5
}
