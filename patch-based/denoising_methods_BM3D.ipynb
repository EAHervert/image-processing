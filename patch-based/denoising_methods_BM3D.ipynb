{
 "cells": [
  {
   "cell_type": "markdown",
   "id": "7d843d4f-a96d-4d91-b5d8-78bbf6b0bc40",
   "metadata": {},
   "source": [
    "# Denoising Methods - BM3D"
   ]
  },
  {
   "cell_type": "code",
   "execution_count": null,
   "id": "f9bda6e5-74f2-44fe-b6ec-5a1f38e208c7",
   "metadata": {},
   "outputs": [],
   "source": [
    "from cv2 import imwrite\n",
    "\n",
    "import plotly.express as px\n",
    "import plotly.graph_objects as go\n",
    "from plotly.subplots import make_subplots\n",
    "import pywt\n",
    "import cv2\n",
    "import numpy as np\n",
    "from sklearn.datasets import fetch_olivetti_faces\n",
    "from sklearn.model_selection import train_test_split\n",
    "from skimage.metrics import structural_similarity as ssim\n",
    "from skimage.metrics import peak_signal_noise_ratio as psnr\n",
    "from bm3d import bm3d, BM3DStages\n",
    "import plotly.graph_objects as go"
   ]
  },
  {
   "cell_type": "code",
   "execution_count": null,
   "id": "20f6e39a-c5e9-47cf-a5b1-dd33263cbe92",
   "metadata": {},
   "outputs": [],
   "source": [
    "def SSIM_Batch(X, X_true, k=16):\n",
    "    m, _ = X.shape\n",
    "    ssim_val = 0\n",
    "    data_range = None if X.max() > 2 else 1.\n",
    "    for i in range(m):\n",
    "        ns = X[i].reshape((k, k))\n",
    "        gt = X_true[i].reshape((k, k))\n",
    "\n",
    "        ssim_val += ssim(ns, gt, data_range=data_range)\n",
    "\n",
    "    return ssim_val / m\n"
   ]
  },
  {
   "cell_type": "code",
   "execution_count": null,
   "id": "1747a9f5-32d5-4896-b516-980c20ca80cf",
   "metadata": {},
   "outputs": [],
   "source": [
    "# Load the Olivetti faces dataset\n",
    "faces = fetch_olivetti_faces(shuffle=True)\n",
    "X = faces.data[:100]\n",
    "\n",
    "# Add noise to the images\n",
    "np.random.seed(0)\n",
    "noise = np.random.normal(0, 0.1, X.shape)\n",
    "X_noisy = X + noise\n"
   ]
  },
  {
   "cell_type": "code",
   "execution_count": null,
   "id": "373437dd-fc1f-4c3c-890f-2c09db8475e7",
   "metadata": {},
   "outputs": [],
   "source": [
    "# Create subplots\n",
    "fig = make_subplots(rows=2, cols=5)\n",
    "\n",
    "# Add heatmaps for original and noisy images\n",
    "for i in range(5):\n",
    "    # Original image\n",
    "    fig.add_trace(\n",
    "        go.Heatmap(z=X[i].reshape(64, 64), colorscale='gray', showscale=False),\n",
    "        row=1, col=i+1\n",
    "    )\n",
    "    # Noisy image\n",
    "    fig.add_trace(\n",
    "        go.Heatmap(z=X_noisy[i].reshape(64, 64), colorscale='gray', showscale=False),\n",
    "        row=2, col=i+1\n",
    "    )\n",
    "    # Remove axes for each subplot\n",
    "    fig.update_xaxes(showticklabels=False, showgrid=False, row=1, col=i+1)\n",
    "    fig.update_yaxes(autorange=\"reversed\", showticklabels=False, showgrid=False, row=1, col=i+1)\n",
    "    fig.update_xaxes(showticklabels=False, showgrid=False, row=2, col=i+1)\n",
    "    fig.update_yaxes(autorange=\"reversed\", showticklabels=False, showgrid=False, row=2, col=i+1)\n",
    "    \n",
    "# Update layout\n",
    "fig.update_layout(\n",
    "    width=1000,\n",
    "    height=400,\n",
    "    showlegend=False,\n",
    "    margin=dict(t=10, l=10, r=10, b=10)\n",
    ")\n",
    "\n",
    "# Show plot\n",
    "fig.show()"
   ]
  },
  {
   "cell_type": "markdown",
   "id": "2d0caf77-f80c-4318-bddb-aa024742d1a8",
   "metadata": {},
   "source": [
    "## BM3D"
   ]
  },
  {
   "cell_type": "code",
   "execution_count": null,
   "id": "de524d62-3132-4035-9b7f-2334a6e13300",
   "metadata": {},
   "outputs": [],
   "source": [
    "X_denoised_first = []\n",
    "X_denoised_all = []\n",
    "for x_i in X_noisy:\n",
    "    image = x_i.reshape(64, 64)\n",
    "    \n",
    "    # Apply BM3D denoising - Both Stages\n",
    "    denoised_img = bm3d(image, sigma_psd=0.1, stage_arg=BM3DStages.HARD_THRESHOLDING)\n",
    "    X_denoised_first.append(denoised_img.reshape(64 * 64, ))\n",
    "\n",
    "    # Apply BM3D denoising - Both Stages\n",
    "    denoised_img = bm3d(image, sigma_psd=0.1, stage_arg=BM3DStages.ALL_STAGES)\n",
    "    X_denoised_all.append(denoised_img.reshape(64 * 64, ))\n",
    "\n",
    "X_denoised_first = np.array(X_denoised_first)\n",
    "X_denoised_all = np.array(X_denoised_all)\n"
   ]
  },
  {
   "cell_type": "code",
   "execution_count": null,
   "id": "fd26cdb1-66e9-4823-b466-ba66a4e5e367",
   "metadata": {},
   "outputs": [],
   "source": [
    "# Create subplots\n",
    "fig = make_subplots(rows=4, cols=5)\n",
    "\n",
    "# Add heatmaps for original and noisy images\n",
    "for i in range(5):\n",
    "    # Original image\n",
    "    fig.add_trace(\n",
    "        go.Heatmap(z=X[i].reshape(64, 64), colorscale='gray', showscale=False),\n",
    "        row=1, col=i+1\n",
    "    )\n",
    "    # Noisy image\n",
    "    fig.add_trace(\n",
    "        go.Heatmap(z=X_noisy[i].reshape(64, 64), colorscale='gray', showscale=False),\n",
    "        row=2, col=i+1\n",
    "    )\n",
    "    # Denoised image - first stage\n",
    "    fig.add_trace(\n",
    "        go.Heatmap(z=X_denoised_first[i].reshape(64, 64), colorscale='gray', showscale=False),\n",
    "        row=3, col=i+1\n",
    "    )\n",
    "    # Denoised image - both stages\n",
    "    fig.add_trace(\n",
    "        go.Heatmap(z=X_denoised_all[i].reshape(64, 64), colorscale='gray', showscale=False),\n",
    "        row=4, col=i+1\n",
    "    )\n",
    "    # Remove axes for each subplot\n",
    "    fig.update_xaxes(showticklabels=False, showgrid=False, row=1, col=i+1)\n",
    "    fig.update_yaxes(autorange=\"reversed\", showticklabels=False, showgrid=False, row=1, col=i+1)\n",
    "    fig.update_xaxes(showticklabels=False, showgrid=False, row=2, col=i+1)\n",
    "    fig.update_yaxes(autorange=\"reversed\", showticklabels=False, showgrid=False, row=2, col=i+1)\n",
    "    fig.update_xaxes(showticklabels=False, showgrid=False, row=3, col=i+1)\n",
    "    fig.update_yaxes(autorange=\"reversed\", showticklabels=False, showgrid=False, row=3, col=i+1)\n",
    "    fig.update_xaxes(showticklabels=False, showgrid=False, row=4, col=i+1)\n",
    "    fig.update_yaxes(autorange=\"reversed\", showticklabels=False, showgrid=False, row=4, col=i+1)\n",
    "    \n",
    "# Update layout\n",
    "fig.update_layout(\n",
    "    width=1000,\n",
    "    height=800,\n",
    "    showlegend=False,\n",
    "    margin=dict(t=10, l=10, r=10, b=10)\n",
    ")\n",
    "\n",
    "# Show plot\n",
    "fig.show()"
   ]
  },
  {
   "cell_type": "code",
   "execution_count": null,
   "id": "be16819d-4c9b-468a-8af3-b103a6bdb207",
   "metadata": {},
   "outputs": [],
   "source": [
    "SSIM_Batch(X_denoised_first, X, k=64)"
   ]
  },
  {
   "cell_type": "code",
   "execution_count": null,
   "id": "4c56d0ca-652a-4556-ac16-1aef614fae00",
   "metadata": {},
   "outputs": [],
   "source": [
    "SSIM_Batch(X_denoised_all, X, k=64)"
   ]
  },
  {
   "cell_type": "code",
   "execution_count": null,
   "id": "20fcc6a2-e27a-4cb1-bc89-e23f20fe2042",
   "metadata": {},
   "outputs": [],
   "source": [
    "SSIM_Batch(X_noisy, X, k=64)"
   ]
  },
  {
   "cell_type": "code",
   "execution_count": null,
   "id": "cae6dfee-a71a-4a86-8e80-dbb77019dee1",
   "metadata": {},
   "outputs": [],
   "source": [
    "# Save the image\n",
    "imwrite(\"denoised_as_4_zoom.png\", np.uint8(X_denoised_all[3].reshape(64, 64)[:32, 32:] * 255))"
   ]
  },
  {
   "cell_type": "code",
   "execution_count": null,
   "id": "5e067c23-3874-4419-81bc-75d77fc507b8",
   "metadata": {},
   "outputs": [],
   "source": []
  }
 ],
 "metadata": {
  "kernelspec": {
   "display_name": "Python 3 (ipykernel)",
   "language": "python",
   "name": "python3"
  },
  "language_info": {
   "codemirror_mode": {
    "name": "ipython",
    "version": 3
   },
   "file_extension": ".py",
   "mimetype": "text/x-python",
   "name": "python",
   "nbconvert_exporter": "python",
   "pygments_lexer": "ipython3",
   "version": "3.8.18"
  }
 },
 "nbformat": 4,
 "nbformat_minor": 5
}
