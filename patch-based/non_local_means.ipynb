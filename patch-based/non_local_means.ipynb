{
 "cells": [
  {
   "cell_type": "code",
   "execution_count": null,
   "id": "7db22cf2-dda1-4dd4-804d-2952d7c8d4de",
   "metadata": {},
   "outputs": [],
   "source": [
    "import numpy as np\n",
    "from skimage.restoration import denoise_nl_means, estimate_sigma\n",
    "from sklearn.datasets import fetch_olivetti_faces\n",
    "\n",
    "import plotly.graph_objects as go\n",
    "from plotly.subplots import make_subplots\n",
    "\n",
    "from cv2 import imwrite"
   ]
  },
  {
   "cell_type": "code",
   "execution_count": null,
   "id": "480032b6-6354-4d65-ba4b-bb2a889f895b",
   "metadata": {},
   "outputs": [],
   "source": [
    "# Load the Olivetti faces dataset\n",
    "faces = fetch_olivetti_faces(shuffle=True)\n",
    "X = faces.data[:100]\n",
    "\n",
    "# Add noise to the images\n",
    "np.random.seed(0)\n",
    "noise = np.random.normal(0, 0.1, X.shape)\n",
    "X_noisy = X + noise\n"
   ]
  },
  {
   "cell_type": "code",
   "execution_count": null,
   "id": "18f817bd-a4f0-412b-a3f3-953bd12d78f8",
   "metadata": {},
   "outputs": [],
   "source": [
    "# Create subplots\n",
    "fig = make_subplots(rows=2, cols=5)\n",
    "\n",
    "# Add heatmaps for original and noisy images\n",
    "for i in range(5):\n",
    "    # Original image\n",
    "    fig.add_trace(\n",
    "        go.Heatmap(z=X[i].reshape(64, 64), colorscale='gray', showscale=False),\n",
    "        row=1, col=i+1\n",
    "    )\n",
    "    # Noisy image\n",
    "    fig.add_trace(\n",
    "        go.Heatmap(z=X_noisy[i].reshape(64, 64), colorscale='gray', showscale=False),\n",
    "        row=2, col=i+1\n",
    "    )\n",
    "    # Remove axes for each subplot\n",
    "    fig.update_xaxes(showticklabels=False, showgrid=False, row=1, col=i+1)\n",
    "    fig.update_yaxes(autorange=\"reversed\", showticklabels=False, showgrid=False, row=1, col=i+1)\n",
    "    fig.update_xaxes(showticklabels=False, showgrid=False, row=2, col=i+1)\n",
    "    fig.update_yaxes(autorange=\"reversed\", showticklabels=False, showgrid=False, row=2, col=i+1)\n",
    "    \n",
    "# Update layout\n",
    "fig.update_layout(\n",
    "    width=1000,\n",
    "    height=400,\n",
    "    showlegend=False,\n",
    "    margin=dict(t=10, l=10, r=10, b=10)\n",
    ")\n",
    "\n",
    "# Show plot\n",
    "fig.show()"
   ]
  },
  {
   "cell_type": "code",
   "execution_count": null,
   "id": "b56a014f-566b-40be-9aac-192561ab59e0",
   "metadata": {},
   "outputs": [],
   "source": [
    "h_vals = (np.arange(10, 200 + 1, 5) / 200)[1:]\n",
    "p_vals = np.arange(3, 15 + 1, 2)"
   ]
  },
  {
   "cell_type": "code",
   "execution_count": null,
   "id": "271ed349-00f7-4686-8e0f-32cb5bcf45c9",
   "metadata": {},
   "outputs": [],
   "source": [
    "h_vals"
   ]
  },
  {
   "cell_type": "code",
   "execution_count": null,
   "id": "90eb70e2-6618-424d-a759-c475180df79b",
   "metadata": {},
   "outputs": [],
   "source": [
    "MSE = []\n",
    "for h_i in h_vals:\n",
    "    temp = []\n",
    "    for p_i in p_vals:\n",
    "        X_denoised = []\n",
    "        for x_i in X_noisy:\n",
    "            image = x_i.reshape(64, 64)\n",
    "            sigma_est = estimate_sigma(image)  # Estimate noise standard deviation\n",
    "            \n",
    "            # Apply non-local means denoising\n",
    "            denoised_img = denoise_nl_means(image, h=h_i, sigma=sigma_est, fast_mode=True, patch_size=p_i, patch_distance=15)\n",
    "            denoised_img = np.clip(denoised_img, 0, 1)\n",
    "            X_denoised.append(denoised_img.reshape(64 * 64, ))\n",
    "\n",
    "        X_denoised = np.array(X_denoised)\n",
    "        MSE_val = ((X_denoised - X) ** 2).mean()\n",
    "        temp.append(MSE_val)\n",
    "    MSE.append(temp)\n"
   ]
  },
  {
   "cell_type": "code",
   "execution_count": null,
   "id": "0cf473bd-c88f-48fd-a5f0-a4cee1c159d1",
   "metadata": {},
   "outputs": [],
   "source": [
    "MSE = np.array(MSE)\n",
    "\n",
    "metrics_normalized = (MSE - MSE.min()) / (MSE.max() - MSE.min())\n",
    "\n",
    "fig = go.Figure(data=go.Heatmap(z=metrics_normalized.T, x=h_vals, y=p_vals, colorscale='viridis'))\n",
    "# Add a star annotation for the minimum value\n",
    "fig.add_annotation(\n",
    "    x=(h_vals[1] - h_vals[0]) / 2 + h_vals[0], y=p_vals[1],\n",
    "    text=\"★ min\",\n",
    "    showarrow=False,\n",
    "    font=dict(size=10, color=\"red\")\n",
    ")    \n",
    "fig.update_layout(height=500, width=1000, \n",
    "    xaxis_title='H Values',\n",
    "    yaxis_title='Patch Size'\n",
    ")\n",
    "\n",
    "fig.show()\n"
   ]
  },
  {
   "cell_type": "code",
   "execution_count": null,
   "id": "d2b8a8c8-5a01-4ff2-89df-4c6c510ce775",
   "metadata": {},
   "outputs": [],
   "source": [
    "X_denoised = []\n",
    "\n",
    "for x_i in X_noisy:\n",
    "    image = x_i.reshape(64, 64)\n",
    "    sigma_est = estimate_sigma(image)  # Estimate noise standard deviation\n",
    "    \n",
    "    # Apply non-local means denoising\n",
    "    denoised_img = denoise_nl_means(image, h=0.075, sigma=sigma_est, fast_mode=True, patch_size=5, patch_distance=15)\n",
    "    denoised_img = np.clip(denoised_img, 0, 1)\n",
    "    X_denoised.append(denoised_img.reshape(64 * 64, ))\n",
    "\n",
    "X_denoised = np.array(X_denoised)"
   ]
  },
  {
   "cell_type": "code",
   "execution_count": null,
   "id": "f9d12c93-0035-47e7-b3c4-e45576433c79",
   "metadata": {},
   "outputs": [],
   "source": [
    "# Create subplots\n",
    "fig = make_subplots(rows=3, cols=5)\n",
    "\n",
    "# Add heatmaps for original and noisy images\n",
    "for i in range(5):\n",
    "    # Original image\n",
    "    fig.add_trace(\n",
    "        go.Heatmap(z=X[i].reshape(64, 64), colorscale='gray', showscale=False),\n",
    "        row=1, col=i+1\n",
    "    )\n",
    "    # Noisy image\n",
    "    fig.add_trace(\n",
    "        go.Heatmap(z=X_noisy[i].reshape(64, 64), colorscale='gray', showscale=False),\n",
    "        row=2, col=i+1\n",
    "    )\n",
    "    # Denoised image\n",
    "    fig.add_trace(\n",
    "        go.Heatmap(z=X_denoised[i].reshape(64, 64), colorscale='gray', showscale=False),\n",
    "        row=3, col=i+1\n",
    "    )\n",
    "    # Remove axes for each subplot\n",
    "    fig.update_xaxes(showticklabels=False, showgrid=False, row=1, col=i+1)\n",
    "    fig.update_yaxes(autorange=\"reversed\", showticklabels=False, showgrid=False, row=1, col=i+1)\n",
    "    fig.update_xaxes(showticklabels=False, showgrid=False, row=2, col=i+1)\n",
    "    fig.update_yaxes(autorange=\"reversed\", showticklabels=False, showgrid=False, row=2, col=i+1)\n",
    "    fig.update_xaxes(showticklabels=False, showgrid=False, row=3, col=i+1)\n",
    "    fig.update_yaxes(autorange=\"reversed\", showticklabels=False, showgrid=False, row=3, col=i+1)\n",
    "    \n",
    "# Update layout\n",
    "fig.update_layout(\n",
    "    width=1000,\n",
    "    height=600,\n",
    "    showlegend=False,\n",
    "    margin=dict(t=10, l=10, r=10, b=10)\n",
    ")\n",
    "\n",
    "# Show plot\n",
    "fig.show()"
   ]
  },
  {
   "cell_type": "code",
   "execution_count": null,
   "id": "e4bcd384-8175-4764-a396-6ca1f7e7fa07",
   "metadata": {},
   "outputs": [],
   "source": [
    "# Save the image\n",
    "imwrite(\"denoised_5.png\", np.uint8(X_denoised[4].reshape(64, 64) * 255))"
   ]
  }
 ],
 "metadata": {
  "kernelspec": {
   "display_name": "Python 3 (ipykernel)",
   "language": "python",
   "name": "python3"
  },
  "language_info": {
   "codemirror_mode": {
    "name": "ipython",
    "version": 3
   },
   "file_extension": ".py",
   "mimetype": "text/x-python",
   "name": "python",
   "nbconvert_exporter": "python",
   "pygments_lexer": "ipython3",
   "version": "3.8.18"
  }
 },
 "nbformat": 4,
 "nbformat_minor": 5
}
